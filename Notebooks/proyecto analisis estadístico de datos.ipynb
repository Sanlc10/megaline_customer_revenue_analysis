{
 "cells": [
  {
   "cell_type": "markdown",
   "metadata": {
    "id": "3rYiDeEH0q0f"
   },
   "source": [
    "# ¿Cuál es la mejor tarifa?\n",
    "\n",
    "Trabajas como analista para el operador de telecomunicaciones Megaline. La empresa ofrece a sus clientes dos tarifas de prepago, Surf y Ultimate. El departamento comercial quiere saber cuál de las tarifas genera más ingresos para poder ajustar el presupuesto de publicidad.\n",
    "\n",
    "Vas a realizar un análisis preliminar de las tarifas basado en una selección de clientes relativamente pequeña. Tendrás los datos de 500 clientes de Megaline: quiénes son los clientes, de dónde son, qué tarifa usan, así como la cantidad de llamadas que hicieron y los mensajes de texto que enviaron en 2018. Tu trabajo es analizar el comportamiento de los clientes y determinar qué tarifa de prepago genera más ingresos."
   ]
  },
  {
   "cell_type": "markdown",
   "metadata": {
    "id": "VNddPNRQ0q0w"
   },
   "source": [
    "# Propósito y objetivos del proyecto\n",
    "\n",
    "El objetivo principal de este proyecto es averiguar cual de los dos planes de prepago que ofrece Megaline, genera más ingresos, esto conlleva un proceso que incluye la visualización inicial de los datos, el procesamiento y limpieza, y la aplicación de métodos estadísticos para comprobar y verificar nuestros hallazgos. Para obtener la información solicitada, planeo primeramente garantizar la calidad e integridad de la información, verificando tipos de datos, valores nulos, valores duplicados. Después talvez tenga que unir DataFrames, analizaré el comportamiento de los clientes para identificar patrones y comprenderlos, por ultimo realizaré distintas pruebas de hipótesis mediante los métodos de el módulo stats de la librería scipy. Esto nos permitira no solo saber cual de los dos planes genera más ingresos, sino tener un panorama y contexto mucho mayor acerca del comportamiento de los clientes, el tiempo que usan el servicio, la medida en que lo usan, cuanto paga cada cliente, etc. \n",
    "Muchas cosas las iremos descubriendo y haciendo en el camino, pero sin más preambulos, comencemos."
   ]
  },
  {
   "cell_type": "markdown",
   "metadata": {
    "id": "MQi4IPy70q0y"
   },
   "source": [
    "## Inicialización"
   ]
  },
  {
   "cell_type": "code",
   "execution_count": 1,
   "metadata": {
    "id": "MtYIuBxu0q0z"
   },
   "outputs": [],
   "source": [
    "import pandas as pd\n",
    "import matplotlib.pyplot as plt\n",
    "import scipy.stats as st\n",
    "import numpy as np"
   ]
  },
  {
   "cell_type": "markdown",
   "metadata": {
    "id": "4ysWWC5i0q00"
   },
   "source": [
    "## Cargar datos"
   ]
  },
  {
   "cell_type": "code",
   "execution_count": 2,
   "metadata": {
    "id": "CCqPW7rS0q01"
   },
   "outputs": [],
   "source": [
    "calls_df = pd.read_csv('Megaline Telecom Dataset/megaline_calls.csv')\n",
    "internet_df = pd.read_csv('Megaline Telecom Dataset/megaline_internet.csv')\n",
    "messages_df = pd.read_csv('Megaline Telecom Dataset/megaline_messages.csv')\n",
    "plans_df = pd.read_csv('Megaline Telecom Dataset/megaline_plans.csv')\n",
    "users_df = pd.read_csv('Megaline Telecom Dataset/megaline_users.csv')"
   ]
  },
  {
   "cell_type": "markdown",
   "metadata": {
    "id": "69qqoJ3r0q01"
   },
   "source": [
    "## Preparar los datos"
   ]
  },
  {
   "cell_type": "markdown",
   "metadata": {
    "id": "ohBhimvH0q01"
   },
   "source": [
    "## Tarifas"
   ]
  },
  {
   "cell_type": "code",
   "execution_count": 3,
   "metadata": {
    "id": "GptqP3Q40q02"
   },
   "outputs": [
    {
     "name": "stdout",
     "output_type": "stream",
     "text": [
      "<class 'pandas.core.frame.DataFrame'>\n",
      "RangeIndex: 2 entries, 0 to 1\n",
      "Data columns (total 8 columns):\n",
      " #   Column                 Non-Null Count  Dtype  \n",
      "---  ------                 --------------  -----  \n",
      " 0   messages_included      2 non-null      int64  \n",
      " 1   mb_per_month_included  2 non-null      int64  \n",
      " 2   minutes_included       2 non-null      int64  \n",
      " 3   usd_monthly_pay        2 non-null      int64  \n",
      " 4   usd_per_gb             2 non-null      int64  \n",
      " 5   usd_per_message        2 non-null      float64\n",
      " 6   usd_per_minute         2 non-null      float64\n",
      " 7   plan_name              2 non-null      object \n",
      "dtypes: float64(2), int64(5), object(1)\n",
      "memory usage: 260.0+ bytes\n"
     ]
    }
   ],
   "source": [
    "# Imprime la información general/resumida sobre el DataFrame de las tarifas\n",
    "plans_df.info()\n"
   ]
  },
  {
   "cell_type": "code",
   "execution_count": 4,
   "metadata": {
    "id": "64xzjwL70q02"
   },
   "outputs": [
    {
     "data": {
      "text/html": [
       "<div>\n",
       "<style scoped>\n",
       "    .dataframe tbody tr th:only-of-type {\n",
       "        vertical-align: middle;\n",
       "    }\n",
       "\n",
       "    .dataframe tbody tr th {\n",
       "        vertical-align: top;\n",
       "    }\n",
       "\n",
       "    .dataframe thead th {\n",
       "        text-align: right;\n",
       "    }\n",
       "</style>\n",
       "<table border=\"1\" class=\"dataframe\">\n",
       "  <thead>\n",
       "    <tr style=\"text-align: right;\">\n",
       "      <th></th>\n",
       "      <th>messages_included</th>\n",
       "      <th>mb_per_month_included</th>\n",
       "      <th>minutes_included</th>\n",
       "      <th>usd_monthly_pay</th>\n",
       "      <th>usd_per_gb</th>\n",
       "      <th>usd_per_message</th>\n",
       "      <th>usd_per_minute</th>\n",
       "      <th>plan_name</th>\n",
       "    </tr>\n",
       "  </thead>\n",
       "  <tbody>\n",
       "    <tr>\n",
       "      <th>0</th>\n",
       "      <td>50</td>\n",
       "      <td>15360</td>\n",
       "      <td>500</td>\n",
       "      <td>20</td>\n",
       "      <td>10</td>\n",
       "      <td>0.03</td>\n",
       "      <td>0.03</td>\n",
       "      <td>surf</td>\n",
       "    </tr>\n",
       "    <tr>\n",
       "      <th>1</th>\n",
       "      <td>1000</td>\n",
       "      <td>30720</td>\n",
       "      <td>3000</td>\n",
       "      <td>70</td>\n",
       "      <td>7</td>\n",
       "      <td>0.01</td>\n",
       "      <td>0.01</td>\n",
       "      <td>ultimate</td>\n",
       "    </tr>\n",
       "  </tbody>\n",
       "</table>\n",
       "</div>"
      ],
      "text/plain": [
       "   messages_included  mb_per_month_included  minutes_included  \\\n",
       "0                 50                  15360               500   \n",
       "1               1000                  30720              3000   \n",
       "\n",
       "   usd_monthly_pay  usd_per_gb  usd_per_message  usd_per_minute plan_name  \n",
       "0               20          10             0.03            0.03      surf  \n",
       "1               70           7             0.01            0.01  ultimate  "
      ]
     },
     "execution_count": 4,
     "metadata": {},
     "output_type": "execute_result"
    }
   ],
   "source": [
    "# Imprime una muestra de los datos para las tarifas\n",
    "plans_df.head()\n"
   ]
  },
  {
   "cell_type": "markdown",
   "metadata": {
    "id": "mEc_3_hs0q02"
   },
   "source": [
    "Este DataFrame contiene toda la información sobre los dos planes de prepago de Megaline, debido a que el DF solo tiene 2 filas, podemos visualizar la tabla completamente. A simple vista, podemos notar como el plan surf es como un plan estandar, mientras que el ultimate, es un plan premium, el plan ultimate es más costoso, pero incluye mejores beneficios y si lo comparamos objetivamente, resulta ser más barato ya que el costo unitario de los megabytes, minutos, mensajes, etc. es menor.\n",
    "\n",
    "En cuanto a la calidad de los datos, no hay ningún problema, los tipos de datos están bien y no hay necesidad de cambiar ni verificar nada más, por el momento."
   ]
  },
  {
   "cell_type": "markdown",
   "metadata": {
    "id": "R3C05i1l0q03"
   },
   "source": [
    "## Corregir datos"
   ]
  },
  {
   "cell_type": "code",
   "execution_count": 5,
   "metadata": {
    "id": "Y7SVmjGn0q03"
   },
   "outputs": [],
   "source": [
    "#No existe ningún problema"
   ]
  },
  {
   "cell_type": "markdown",
   "metadata": {
    "id": "LJir7bml0q03"
   },
   "source": [
    "## Enriquecer los datos"
   ]
  },
  {
   "cell_type": "code",
   "execution_count": 6,
   "metadata": {
    "id": "gfcIEuXV0q04"
   },
   "outputs": [],
   "source": [
    "#Este DataFrame solo muestra la información de los dos planes, ya contiene toda la información necesaria para nosotros. \n",
    "#(No es necesario agregar nada más)"
   ]
  },
  {
   "cell_type": "markdown",
   "metadata": {
    "id": "1n2X6WXf0q04"
   },
   "source": [
    "## Usuarios/as"
   ]
  },
  {
   "cell_type": "code",
   "execution_count": 7,
   "metadata": {
    "id": "2NgjWFqx0q05"
   },
   "outputs": [
    {
     "name": "stdout",
     "output_type": "stream",
     "text": [
      "<class 'pandas.core.frame.DataFrame'>\n",
      "RangeIndex: 500 entries, 0 to 499\n",
      "Data columns (total 8 columns):\n",
      " #   Column      Non-Null Count  Dtype \n",
      "---  ------      --------------  ----- \n",
      " 0   user_id     500 non-null    int64 \n",
      " 1   first_name  500 non-null    object\n",
      " 2   last_name   500 non-null    object\n",
      " 3   age         500 non-null    int64 \n",
      " 4   city        500 non-null    object\n",
      " 5   reg_date    500 non-null    object\n",
      " 6   plan        500 non-null    object\n",
      " 7   churn_date  34 non-null     object\n",
      "dtypes: int64(2), object(6)\n",
      "memory usage: 31.4+ KB\n"
     ]
    }
   ],
   "source": [
    "# Imprime la información general/resumida sobre el DataFrame de usuarios\n",
    "users_df.info()\n"
   ]
  },
  {
   "cell_type": "code",
   "execution_count": 8,
   "metadata": {
    "id": "1IN1L9uh0q05"
   },
   "outputs": [
    {
     "data": {
      "text/html": [
       "<div>\n",
       "<style scoped>\n",
       "    .dataframe tbody tr th:only-of-type {\n",
       "        vertical-align: middle;\n",
       "    }\n",
       "\n",
       "    .dataframe tbody tr th {\n",
       "        vertical-align: top;\n",
       "    }\n",
       "\n",
       "    .dataframe thead th {\n",
       "        text-align: right;\n",
       "    }\n",
       "</style>\n",
       "<table border=\"1\" class=\"dataframe\">\n",
       "  <thead>\n",
       "    <tr style=\"text-align: right;\">\n",
       "      <th></th>\n",
       "      <th>user_id</th>\n",
       "      <th>first_name</th>\n",
       "      <th>last_name</th>\n",
       "      <th>age</th>\n",
       "      <th>city</th>\n",
       "      <th>reg_date</th>\n",
       "      <th>plan</th>\n",
       "      <th>churn_date</th>\n",
       "    </tr>\n",
       "  </thead>\n",
       "  <tbody>\n",
       "    <tr>\n",
       "      <th>0</th>\n",
       "      <td>1000</td>\n",
       "      <td>Anamaria</td>\n",
       "      <td>Bauer</td>\n",
       "      <td>45</td>\n",
       "      <td>Atlanta-Sandy Springs-Roswell, GA MSA</td>\n",
       "      <td>2018-12-24</td>\n",
       "      <td>ultimate</td>\n",
       "      <td>NaN</td>\n",
       "    </tr>\n",
       "    <tr>\n",
       "      <th>1</th>\n",
       "      <td>1001</td>\n",
       "      <td>Mickey</td>\n",
       "      <td>Wilkerson</td>\n",
       "      <td>28</td>\n",
       "      <td>Seattle-Tacoma-Bellevue, WA MSA</td>\n",
       "      <td>2018-08-13</td>\n",
       "      <td>surf</td>\n",
       "      <td>NaN</td>\n",
       "    </tr>\n",
       "    <tr>\n",
       "      <th>2</th>\n",
       "      <td>1002</td>\n",
       "      <td>Carlee</td>\n",
       "      <td>Hoffman</td>\n",
       "      <td>36</td>\n",
       "      <td>Las Vegas-Henderson-Paradise, NV MSA</td>\n",
       "      <td>2018-10-21</td>\n",
       "      <td>surf</td>\n",
       "      <td>NaN</td>\n",
       "    </tr>\n",
       "    <tr>\n",
       "      <th>3</th>\n",
       "      <td>1003</td>\n",
       "      <td>Reynaldo</td>\n",
       "      <td>Jenkins</td>\n",
       "      <td>52</td>\n",
       "      <td>Tulsa, OK MSA</td>\n",
       "      <td>2018-01-28</td>\n",
       "      <td>surf</td>\n",
       "      <td>NaN</td>\n",
       "    </tr>\n",
       "    <tr>\n",
       "      <th>4</th>\n",
       "      <td>1004</td>\n",
       "      <td>Leonila</td>\n",
       "      <td>Thompson</td>\n",
       "      <td>40</td>\n",
       "      <td>Seattle-Tacoma-Bellevue, WA MSA</td>\n",
       "      <td>2018-05-23</td>\n",
       "      <td>surf</td>\n",
       "      <td>NaN</td>\n",
       "    </tr>\n",
       "  </tbody>\n",
       "</table>\n",
       "</div>"
      ],
      "text/plain": [
       "   user_id first_name  last_name  age                                   city  \\\n",
       "0     1000   Anamaria      Bauer   45  Atlanta-Sandy Springs-Roswell, GA MSA   \n",
       "1     1001     Mickey  Wilkerson   28        Seattle-Tacoma-Bellevue, WA MSA   \n",
       "2     1002     Carlee    Hoffman   36   Las Vegas-Henderson-Paradise, NV MSA   \n",
       "3     1003   Reynaldo    Jenkins   52                          Tulsa, OK MSA   \n",
       "4     1004    Leonila   Thompson   40        Seattle-Tacoma-Bellevue, WA MSA   \n",
       "\n",
       "     reg_date      plan churn_date  \n",
       "0  2018-12-24  ultimate        NaN  \n",
       "1  2018-08-13      surf        NaN  \n",
       "2  2018-10-21      surf        NaN  \n",
       "3  2018-01-28      surf        NaN  \n",
       "4  2018-05-23      surf        NaN  "
      ]
     },
     "execution_count": 8,
     "metadata": {},
     "output_type": "execute_result"
    }
   ],
   "source": [
    "# Imprime una muestra de datos para usuarios\n",
    "\n",
    "users_df.head()"
   ]
  },
  {
   "cell_type": "markdown",
   "metadata": {
    "id": "dCZoUq4f0q06"
   },
   "source": [
    "Este DataFrame incluye la información general de una muestra de 500 usuarios, que es con la que estaremos trabajando, estos usuarios están suscritos a alguno de los dos planes, surf o ultimate. Contamos con su nombre, ubicación, edad, id de usuario, fecha de suscripción y en algunos casos fecha de cancelación, así como el plan al que están suscritos. (El DF está ordenado por user_id, desde 1000 a 1499)\n",
    "\n",
    "En cuanto a los problemas de calidad, solo encuentro que las columnas reg_date y churn_date son de tipo object, la columna churn date tiene valores ausentes pero no hay problema ya que esto quiere decir que estos clientes seguían activos cuando se extrajo esta base de datos. Convertiremos estas columnas a tipo datetime y dejaremos los valores ausentes utilizando el parametro errors = coerce."
   ]
  },
  {
   "cell_type": "markdown",
   "metadata": {
    "id": "BX5FQh_I0q06"
   },
   "source": [
    "### Corregir los datos"
   ]
  },
  {
   "cell_type": "code",
   "execution_count": 9,
   "metadata": {
    "id": "yUqX-K0C0q07"
   },
   "outputs": [
    {
     "data": {
      "text/plain": [
       "user_id                int64\n",
       "first_name            object\n",
       "last_name             object\n",
       "age                    int64\n",
       "city                  object\n",
       "reg_date      datetime64[ns]\n",
       "plan                  object\n",
       "churn_date    datetime64[ns]\n",
       "dtype: object"
      ]
     },
     "execution_count": 9,
     "metadata": {},
     "output_type": "execute_result"
    }
   ],
   "source": [
    "users_df['reg_date'] = pd.to_datetime(users_df['reg_date'])\n",
    "users_df['churn_date'] = pd.to_datetime(users_df['churn_date'], errors = 'coerce')\n",
    "#Convertimos a tipo datetime, ahora vamos a verificar los tipos de datos de las columnas.\n",
    "users_df.dtypes"
   ]
  },
  {
   "cell_type": "code",
   "execution_count": 10,
   "metadata": {},
   "outputs": [
    {
     "name": "stdout",
     "output_type": "stream",
     "text": [
      "0\n",
      "0\n"
     ]
    }
   ],
   "source": [
    "#Vamos a comprobar valores duplicados\n",
    "print(users_df.duplicated().sum())\n",
    "#Comprobamos solo los duplicados de la columna user_id ya que esto al ser un identificador único, no debería repetirse.\n",
    "print(users_df['user_id'].duplicated().sum())"
   ]
  },
  {
   "cell_type": "markdown",
   "metadata": {
    "id": "ycwuARJp0q07"
   },
   "source": [
    "### Enriquecer los datos"
   ]
  },
  {
   "cell_type": "markdown",
   "metadata": {
    "id": "iq0AaBS90q08"
   },
   "source": [
    "Voy a crear dos nuevas columnas, 'reg_month' y 'reg_day' para poder analizar después el comportamiento de los usuarios en base al mes del año y al día del mes en el que se suscribieron a la tarifa. Aunque es posible que estas columnas no las utilizemos, es mejor tenerlas a no tenerlas."
   ]
  },
  {
   "cell_type": "code",
   "execution_count": 11,
   "metadata": {},
   "outputs": [
    {
     "data": {
      "text/html": [
       "<div>\n",
       "<style scoped>\n",
       "    .dataframe tbody tr th:only-of-type {\n",
       "        vertical-align: middle;\n",
       "    }\n",
       "\n",
       "    .dataframe tbody tr th {\n",
       "        vertical-align: top;\n",
       "    }\n",
       "\n",
       "    .dataframe thead th {\n",
       "        text-align: right;\n",
       "    }\n",
       "</style>\n",
       "<table border=\"1\" class=\"dataframe\">\n",
       "  <thead>\n",
       "    <tr style=\"text-align: right;\">\n",
       "      <th></th>\n",
       "      <th>user_id</th>\n",
       "      <th>first_name</th>\n",
       "      <th>last_name</th>\n",
       "      <th>age</th>\n",
       "      <th>city</th>\n",
       "      <th>reg_date</th>\n",
       "      <th>plan</th>\n",
       "      <th>churn_date</th>\n",
       "      <th>reg_month</th>\n",
       "      <th>reg_day</th>\n",
       "    </tr>\n",
       "  </thead>\n",
       "  <tbody>\n",
       "    <tr>\n",
       "      <th>0</th>\n",
       "      <td>1000</td>\n",
       "      <td>Anamaria</td>\n",
       "      <td>Bauer</td>\n",
       "      <td>45</td>\n",
       "      <td>Atlanta-Sandy Springs-Roswell, GA MSA</td>\n",
       "      <td>2018-12-24</td>\n",
       "      <td>ultimate</td>\n",
       "      <td>NaT</td>\n",
       "      <td>12</td>\n",
       "      <td>24</td>\n",
       "    </tr>\n",
       "    <tr>\n",
       "      <th>1</th>\n",
       "      <td>1001</td>\n",
       "      <td>Mickey</td>\n",
       "      <td>Wilkerson</td>\n",
       "      <td>28</td>\n",
       "      <td>Seattle-Tacoma-Bellevue, WA MSA</td>\n",
       "      <td>2018-08-13</td>\n",
       "      <td>surf</td>\n",
       "      <td>NaT</td>\n",
       "      <td>8</td>\n",
       "      <td>13</td>\n",
       "    </tr>\n",
       "    <tr>\n",
       "      <th>2</th>\n",
       "      <td>1002</td>\n",
       "      <td>Carlee</td>\n",
       "      <td>Hoffman</td>\n",
       "      <td>36</td>\n",
       "      <td>Las Vegas-Henderson-Paradise, NV MSA</td>\n",
       "      <td>2018-10-21</td>\n",
       "      <td>surf</td>\n",
       "      <td>NaT</td>\n",
       "      <td>10</td>\n",
       "      <td>21</td>\n",
       "    </tr>\n",
       "    <tr>\n",
       "      <th>3</th>\n",
       "      <td>1003</td>\n",
       "      <td>Reynaldo</td>\n",
       "      <td>Jenkins</td>\n",
       "      <td>52</td>\n",
       "      <td>Tulsa, OK MSA</td>\n",
       "      <td>2018-01-28</td>\n",
       "      <td>surf</td>\n",
       "      <td>NaT</td>\n",
       "      <td>1</td>\n",
       "      <td>28</td>\n",
       "    </tr>\n",
       "    <tr>\n",
       "      <th>4</th>\n",
       "      <td>1004</td>\n",
       "      <td>Leonila</td>\n",
       "      <td>Thompson</td>\n",
       "      <td>40</td>\n",
       "      <td>Seattle-Tacoma-Bellevue, WA MSA</td>\n",
       "      <td>2018-05-23</td>\n",
       "      <td>surf</td>\n",
       "      <td>NaT</td>\n",
       "      <td>5</td>\n",
       "      <td>23</td>\n",
       "    </tr>\n",
       "  </tbody>\n",
       "</table>\n",
       "</div>"
      ],
      "text/plain": [
       "   user_id first_name  last_name  age                                   city  \\\n",
       "0     1000   Anamaria      Bauer   45  Atlanta-Sandy Springs-Roswell, GA MSA   \n",
       "1     1001     Mickey  Wilkerson   28        Seattle-Tacoma-Bellevue, WA MSA   \n",
       "2     1002     Carlee    Hoffman   36   Las Vegas-Henderson-Paradise, NV MSA   \n",
       "3     1003   Reynaldo    Jenkins   52                          Tulsa, OK MSA   \n",
       "4     1004    Leonila   Thompson   40        Seattle-Tacoma-Bellevue, WA MSA   \n",
       "\n",
       "    reg_date      plan churn_date  reg_month  reg_day  \n",
       "0 2018-12-24  ultimate        NaT         12       24  \n",
       "1 2018-08-13      surf        NaT          8       13  \n",
       "2 2018-10-21      surf        NaT         10       21  \n",
       "3 2018-01-28      surf        NaT          1       28  \n",
       "4 2018-05-23      surf        NaT          5       23  "
      ]
     },
     "execution_count": 11,
     "metadata": {},
     "output_type": "execute_result"
    }
   ],
   "source": [
    "users_df['reg_month'] = users_df['reg_date'].dt.month\n",
    "users_df['reg_day'] = users_df['reg_date'].dt.day\n",
    "users_df.head()"
   ]
  },
  {
   "cell_type": "markdown",
   "metadata": {
    "id": "o7MeKCid0q08"
   },
   "source": [
    "## Llamadas"
   ]
  },
  {
   "cell_type": "code",
   "execution_count": 12,
   "metadata": {
    "id": "6dDlnoDm0q08"
   },
   "outputs": [
    {
     "name": "stdout",
     "output_type": "stream",
     "text": [
      "<class 'pandas.core.frame.DataFrame'>\n",
      "RangeIndex: 137735 entries, 0 to 137734\n",
      "Data columns (total 4 columns):\n",
      " #   Column     Non-Null Count   Dtype  \n",
      "---  ------     --------------   -----  \n",
      " 0   id         137735 non-null  object \n",
      " 1   user_id    137735 non-null  int64  \n",
      " 2   call_date  137735 non-null  object \n",
      " 3   duration   137735 non-null  float64\n",
      "dtypes: float64(1), int64(1), object(2)\n",
      "memory usage: 4.2+ MB\n"
     ]
    }
   ],
   "source": [
    "# Imprime la información general/resumida sobre el DataFrame de las llamadas\n",
    "calls_df.info()"
   ]
  },
  {
   "cell_type": "code",
   "execution_count": 13,
   "metadata": {
    "id": "kuh1vlNB0q09"
   },
   "outputs": [
    {
     "data": {
      "text/html": [
       "<div>\n",
       "<style scoped>\n",
       "    .dataframe tbody tr th:only-of-type {\n",
       "        vertical-align: middle;\n",
       "    }\n",
       "\n",
       "    .dataframe tbody tr th {\n",
       "        vertical-align: top;\n",
       "    }\n",
       "\n",
       "    .dataframe thead th {\n",
       "        text-align: right;\n",
       "    }\n",
       "</style>\n",
       "<table border=\"1\" class=\"dataframe\">\n",
       "  <thead>\n",
       "    <tr style=\"text-align: right;\">\n",
       "      <th></th>\n",
       "      <th>id</th>\n",
       "      <th>user_id</th>\n",
       "      <th>call_date</th>\n",
       "      <th>duration</th>\n",
       "    </tr>\n",
       "  </thead>\n",
       "  <tbody>\n",
       "    <tr>\n",
       "      <th>0</th>\n",
       "      <td>1000_93</td>\n",
       "      <td>1000</td>\n",
       "      <td>2018-12-27</td>\n",
       "      <td>8.52</td>\n",
       "    </tr>\n",
       "    <tr>\n",
       "      <th>1</th>\n",
       "      <td>1000_145</td>\n",
       "      <td>1000</td>\n",
       "      <td>2018-12-27</td>\n",
       "      <td>13.66</td>\n",
       "    </tr>\n",
       "    <tr>\n",
       "      <th>2</th>\n",
       "      <td>1000_247</td>\n",
       "      <td>1000</td>\n",
       "      <td>2018-12-27</td>\n",
       "      <td>14.48</td>\n",
       "    </tr>\n",
       "    <tr>\n",
       "      <th>3</th>\n",
       "      <td>1000_309</td>\n",
       "      <td>1000</td>\n",
       "      <td>2018-12-28</td>\n",
       "      <td>5.76</td>\n",
       "    </tr>\n",
       "    <tr>\n",
       "      <th>4</th>\n",
       "      <td>1000_380</td>\n",
       "      <td>1000</td>\n",
       "      <td>2018-12-30</td>\n",
       "      <td>4.22</td>\n",
       "    </tr>\n",
       "  </tbody>\n",
       "</table>\n",
       "</div>"
      ],
      "text/plain": [
       "         id  user_id   call_date  duration\n",
       "0   1000_93     1000  2018-12-27      8.52\n",
       "1  1000_145     1000  2018-12-27     13.66\n",
       "2  1000_247     1000  2018-12-27     14.48\n",
       "3  1000_309     1000  2018-12-28      5.76\n",
       "4  1000_380     1000  2018-12-30      4.22"
      ]
     },
     "execution_count": 13,
     "metadata": {},
     "output_type": "execute_result"
    }
   ],
   "source": [
    "# Imprime una muestra de datos para las llamadas\n",
    "\n",
    "calls_df.head()"
   ]
  },
  {
   "cell_type": "markdown",
   "metadata": {
    "id": "DOAxYJSx0q09"
   },
   "source": [
    "Este DataFrame contiene la información de cada llamada que realizaron nuestra muestra de 500 usuarios en el 2018, contiene el id único de la llamada, el id del usuario, la fecha en la que se realizó la llamada y la duración de esta en minutos.\n",
    "Con respecto a la calidad de los datos, no hay valores ausentes, convertiré la columna call_date a tipo datetime, y vamos a redondear la columna duration al entero superior, debido a que así lo maneja Megaline, si te pasas un segundo, te cobran el siguiente minuto, no tiene caso conservar los decimales."
   ]
  },
  {
   "cell_type": "markdown",
   "metadata": {
    "id": "S7hzxmbX0q0-"
   },
   "source": [
    "### Corregir los datos"
   ]
  },
  {
   "cell_type": "code",
   "execution_count": 14,
   "metadata": {
    "id": "S2r8xA4f0q0-"
   },
   "outputs": [
    {
     "data": {
      "text/plain": [
       "id                   object\n",
       "user_id               int64\n",
       "call_date    datetime64[ns]\n",
       "duration            float64\n",
       "dtype: object"
      ]
     },
     "execution_count": 14,
     "metadata": {},
     "output_type": "execute_result"
    }
   ],
   "source": [
    "calls_df['call_date'] = pd.to_datetime(calls_df['call_date'])\n",
    "calls_df.dtypes"
   ]
  },
  {
   "cell_type": "code",
   "execution_count": 15,
   "metadata": {},
   "outputs": [
    {
     "name": "stdout",
     "output_type": "stream",
     "text": [
      "0\n",
      "0\n"
     ]
    }
   ],
   "source": [
    "#Vamos a comprobar valores duplicados\n",
    "print(calls_df.duplicated().sum())\n",
    "print(calls_df['id'].duplicated().sum())"
   ]
  },
  {
   "cell_type": "code",
   "execution_count": 16,
   "metadata": {},
   "outputs": [
    {
     "data": {
      "text/html": [
       "<div>\n",
       "<style scoped>\n",
       "    .dataframe tbody tr th:only-of-type {\n",
       "        vertical-align: middle;\n",
       "    }\n",
       "\n",
       "    .dataframe tbody tr th {\n",
       "        vertical-align: top;\n",
       "    }\n",
       "\n",
       "    .dataframe thead th {\n",
       "        text-align: right;\n",
       "    }\n",
       "</style>\n",
       "<table border=\"1\" class=\"dataframe\">\n",
       "  <thead>\n",
       "    <tr style=\"text-align: right;\">\n",
       "      <th></th>\n",
       "      <th>id</th>\n",
       "      <th>user_id</th>\n",
       "      <th>call_date</th>\n",
       "      <th>duration</th>\n",
       "    </tr>\n",
       "  </thead>\n",
       "  <tbody>\n",
       "    <tr>\n",
       "      <th>0</th>\n",
       "      <td>1000_93</td>\n",
       "      <td>1000</td>\n",
       "      <td>2018-12-27</td>\n",
       "      <td>9</td>\n",
       "    </tr>\n",
       "    <tr>\n",
       "      <th>1</th>\n",
       "      <td>1000_145</td>\n",
       "      <td>1000</td>\n",
       "      <td>2018-12-27</td>\n",
       "      <td>14</td>\n",
       "    </tr>\n",
       "    <tr>\n",
       "      <th>2</th>\n",
       "      <td>1000_247</td>\n",
       "      <td>1000</td>\n",
       "      <td>2018-12-27</td>\n",
       "      <td>15</td>\n",
       "    </tr>\n",
       "    <tr>\n",
       "      <th>3</th>\n",
       "      <td>1000_309</td>\n",
       "      <td>1000</td>\n",
       "      <td>2018-12-28</td>\n",
       "      <td>6</td>\n",
       "    </tr>\n",
       "    <tr>\n",
       "      <th>4</th>\n",
       "      <td>1000_380</td>\n",
       "      <td>1000</td>\n",
       "      <td>2018-12-30</td>\n",
       "      <td>5</td>\n",
       "    </tr>\n",
       "  </tbody>\n",
       "</table>\n",
       "</div>"
      ],
      "text/plain": [
       "         id  user_id  call_date  duration\n",
       "0   1000_93     1000 2018-12-27         9\n",
       "1  1000_145     1000 2018-12-27        14\n",
       "2  1000_247     1000 2018-12-27        15\n",
       "3  1000_309     1000 2018-12-28         6\n",
       "4  1000_380     1000 2018-12-30         5"
      ]
     },
     "execution_count": 16,
     "metadata": {},
     "output_type": "execute_result"
    }
   ],
   "source": [
    "#Redondeamos los valores de la columna duration al entero superior y convertimos a tipo int\n",
    "calls_df['duration'] = np.ceil(calls_df['duration']).astype(int)\n",
    "calls_df.head()"
   ]
  },
  {
   "cell_type": "markdown",
   "metadata": {
    "id": "KrMgTrlG0q0_"
   },
   "source": [
    "### Enriquecer los datos"
   ]
  },
  {
   "cell_type": "markdown",
   "metadata": {
    "id": "a9MbmEvE0q0_"
   },
   "source": [
    "De igual manera agregaré dos columnas, call_month y call_day, para después poder analizar la distribución de llamadas realizadas por mes y dia del año."
   ]
  },
  {
   "cell_type": "code",
   "execution_count": 17,
   "metadata": {
    "id": "iZ1avpA_0q0_"
   },
   "outputs": [
    {
     "data": {
      "text/html": [
       "<div>\n",
       "<style scoped>\n",
       "    .dataframe tbody tr th:only-of-type {\n",
       "        vertical-align: middle;\n",
       "    }\n",
       "\n",
       "    .dataframe tbody tr th {\n",
       "        vertical-align: top;\n",
       "    }\n",
       "\n",
       "    .dataframe thead th {\n",
       "        text-align: right;\n",
       "    }\n",
       "</style>\n",
       "<table border=\"1\" class=\"dataframe\">\n",
       "  <thead>\n",
       "    <tr style=\"text-align: right;\">\n",
       "      <th></th>\n",
       "      <th>id</th>\n",
       "      <th>user_id</th>\n",
       "      <th>call_date</th>\n",
       "      <th>duration</th>\n",
       "      <th>call_month</th>\n",
       "      <th>call_day</th>\n",
       "    </tr>\n",
       "  </thead>\n",
       "  <tbody>\n",
       "    <tr>\n",
       "      <th>0</th>\n",
       "      <td>1000_93</td>\n",
       "      <td>1000</td>\n",
       "      <td>2018-12-27</td>\n",
       "      <td>9</td>\n",
       "      <td>12</td>\n",
       "      <td>27</td>\n",
       "    </tr>\n",
       "    <tr>\n",
       "      <th>1</th>\n",
       "      <td>1000_145</td>\n",
       "      <td>1000</td>\n",
       "      <td>2018-12-27</td>\n",
       "      <td>14</td>\n",
       "      <td>12</td>\n",
       "      <td>27</td>\n",
       "    </tr>\n",
       "    <tr>\n",
       "      <th>2</th>\n",
       "      <td>1000_247</td>\n",
       "      <td>1000</td>\n",
       "      <td>2018-12-27</td>\n",
       "      <td>15</td>\n",
       "      <td>12</td>\n",
       "      <td>27</td>\n",
       "    </tr>\n",
       "    <tr>\n",
       "      <th>3</th>\n",
       "      <td>1000_309</td>\n",
       "      <td>1000</td>\n",
       "      <td>2018-12-28</td>\n",
       "      <td>6</td>\n",
       "      <td>12</td>\n",
       "      <td>28</td>\n",
       "    </tr>\n",
       "    <tr>\n",
       "      <th>4</th>\n",
       "      <td>1000_380</td>\n",
       "      <td>1000</td>\n",
       "      <td>2018-12-30</td>\n",
       "      <td>5</td>\n",
       "      <td>12</td>\n",
       "      <td>30</td>\n",
       "    </tr>\n",
       "  </tbody>\n",
       "</table>\n",
       "</div>"
      ],
      "text/plain": [
       "         id  user_id  call_date  duration  call_month  call_day\n",
       "0   1000_93     1000 2018-12-27         9          12        27\n",
       "1  1000_145     1000 2018-12-27        14          12        27\n",
       "2  1000_247     1000 2018-12-27        15          12        27\n",
       "3  1000_309     1000 2018-12-28         6          12        28\n",
       "4  1000_380     1000 2018-12-30         5          12        30"
      ]
     },
     "execution_count": 17,
     "metadata": {},
     "output_type": "execute_result"
    }
   ],
   "source": [
    "calls_df['call_month'] = calls_df['call_date'].dt.month\n",
    "calls_df['call_day'] = calls_df['call_date'].dt.day\n",
    "calls_df.head()"
   ]
  },
  {
   "cell_type": "markdown",
   "metadata": {
    "id": "mOUZSi180q0_"
   },
   "source": [
    "## Mensajes"
   ]
  },
  {
   "cell_type": "code",
   "execution_count": 18,
   "metadata": {
    "id": "R-bYJpdV0q1A"
   },
   "outputs": [
    {
     "name": "stdout",
     "output_type": "stream",
     "text": [
      "<class 'pandas.core.frame.DataFrame'>\n",
      "RangeIndex: 76051 entries, 0 to 76050\n",
      "Data columns (total 3 columns):\n",
      " #   Column        Non-Null Count  Dtype \n",
      "---  ------        --------------  ----- \n",
      " 0   id            76051 non-null  object\n",
      " 1   user_id       76051 non-null  int64 \n",
      " 2   message_date  76051 non-null  object\n",
      "dtypes: int64(1), object(2)\n",
      "memory usage: 1.7+ MB\n"
     ]
    }
   ],
   "source": [
    "# Imprime la información general/resumida sobre el DataFrame de los mensajes\n",
    "messages_df.info()\n"
   ]
  },
  {
   "cell_type": "code",
   "execution_count": 19,
   "metadata": {
    "id": "mCEl2iGE0q1A"
   },
   "outputs": [
    {
     "data": {
      "text/html": [
       "<div>\n",
       "<style scoped>\n",
       "    .dataframe tbody tr th:only-of-type {\n",
       "        vertical-align: middle;\n",
       "    }\n",
       "\n",
       "    .dataframe tbody tr th {\n",
       "        vertical-align: top;\n",
       "    }\n",
       "\n",
       "    .dataframe thead th {\n",
       "        text-align: right;\n",
       "    }\n",
       "</style>\n",
       "<table border=\"1\" class=\"dataframe\">\n",
       "  <thead>\n",
       "    <tr style=\"text-align: right;\">\n",
       "      <th></th>\n",
       "      <th>id</th>\n",
       "      <th>user_id</th>\n",
       "      <th>message_date</th>\n",
       "    </tr>\n",
       "  </thead>\n",
       "  <tbody>\n",
       "    <tr>\n",
       "      <th>0</th>\n",
       "      <td>1000_125</td>\n",
       "      <td>1000</td>\n",
       "      <td>2018-12-27</td>\n",
       "    </tr>\n",
       "    <tr>\n",
       "      <th>1</th>\n",
       "      <td>1000_160</td>\n",
       "      <td>1000</td>\n",
       "      <td>2018-12-31</td>\n",
       "    </tr>\n",
       "    <tr>\n",
       "      <th>2</th>\n",
       "      <td>1000_223</td>\n",
       "      <td>1000</td>\n",
       "      <td>2018-12-31</td>\n",
       "    </tr>\n",
       "    <tr>\n",
       "      <th>3</th>\n",
       "      <td>1000_251</td>\n",
       "      <td>1000</td>\n",
       "      <td>2018-12-27</td>\n",
       "    </tr>\n",
       "    <tr>\n",
       "      <th>4</th>\n",
       "      <td>1000_255</td>\n",
       "      <td>1000</td>\n",
       "      <td>2018-12-26</td>\n",
       "    </tr>\n",
       "  </tbody>\n",
       "</table>\n",
       "</div>"
      ],
      "text/plain": [
       "         id  user_id message_date\n",
       "0  1000_125     1000   2018-12-27\n",
       "1  1000_160     1000   2018-12-31\n",
       "2  1000_223     1000   2018-12-31\n",
       "3  1000_251     1000   2018-12-27\n",
       "4  1000_255     1000   2018-12-26"
      ]
     },
     "execution_count": 19,
     "metadata": {},
     "output_type": "execute_result"
    }
   ],
   "source": [
    "# Imprime una muestra de datos para los mensajes\n",
    "\n",
    "messages_df.head()"
   ]
  },
  {
   "cell_type": "markdown",
   "metadata": {
    "id": "04xDj7KH0q1A"
   },
   "source": [
    "Este DataFrame contiene la información de cada mensaje enviado por la muestra de 500 usuarios, cuenta con un id único de mensaje, el id de usuario y la fecha en la que se envio ese mensaje. \n",
    "\n",
    "Vamos a convertir la ultima columna a tipo DateTime y a verificar valores duplicados, no existen valores ausentes."
   ]
  },
  {
   "cell_type": "markdown",
   "metadata": {
    "id": "Sprfak900q1B"
   },
   "source": [
    "### Corregir los datos"
   ]
  },
  {
   "cell_type": "code",
   "execution_count": 20,
   "metadata": {
    "id": "vsllvkoa0q1B"
   },
   "outputs": [
    {
     "data": {
      "text/plain": [
       "id                      object\n",
       "user_id                  int64\n",
       "message_date    datetime64[ns]\n",
       "dtype: object"
      ]
     },
     "execution_count": 20,
     "metadata": {},
     "output_type": "execute_result"
    }
   ],
   "source": [
    "messages_df['message_date'] = pd.to_datetime(messages_df['message_date'])\n",
    "messages_df.dtypes"
   ]
  },
  {
   "cell_type": "code",
   "execution_count": 21,
   "metadata": {},
   "outputs": [
    {
     "name": "stdout",
     "output_type": "stream",
     "text": [
      "0\n",
      "0\n"
     ]
    }
   ],
   "source": [
    "#Vamos a comprobar valores duplicados\n",
    "print(messages_df.duplicated().sum())\n",
    "print(messages_df['id'].duplicated().sum())"
   ]
  },
  {
   "cell_type": "markdown",
   "metadata": {
    "id": "HvLid7iD0q1B"
   },
   "source": [
    "### Enriquecer los datos"
   ]
  },
  {
   "cell_type": "markdown",
   "metadata": {},
   "source": [
    "A continuación vamos a agregar dos columnas, una de mes y otra de día para poder analizar la distribución de mensajes enviados por día y mes del año, después."
   ]
  },
  {
   "cell_type": "code",
   "execution_count": 22,
   "metadata": {
    "id": "zYEXZac10q1C"
   },
   "outputs": [
    {
     "data": {
      "text/html": [
       "<div>\n",
       "<style scoped>\n",
       "    .dataframe tbody tr th:only-of-type {\n",
       "        vertical-align: middle;\n",
       "    }\n",
       "\n",
       "    .dataframe tbody tr th {\n",
       "        vertical-align: top;\n",
       "    }\n",
       "\n",
       "    .dataframe thead th {\n",
       "        text-align: right;\n",
       "    }\n",
       "</style>\n",
       "<table border=\"1\" class=\"dataframe\">\n",
       "  <thead>\n",
       "    <tr style=\"text-align: right;\">\n",
       "      <th></th>\n",
       "      <th>id</th>\n",
       "      <th>user_id</th>\n",
       "      <th>message_date</th>\n",
       "      <th>month</th>\n",
       "      <th>day</th>\n",
       "    </tr>\n",
       "  </thead>\n",
       "  <tbody>\n",
       "    <tr>\n",
       "      <th>0</th>\n",
       "      <td>1000_125</td>\n",
       "      <td>1000</td>\n",
       "      <td>2018-12-27</td>\n",
       "      <td>12</td>\n",
       "      <td>27</td>\n",
       "    </tr>\n",
       "    <tr>\n",
       "      <th>1</th>\n",
       "      <td>1000_160</td>\n",
       "      <td>1000</td>\n",
       "      <td>2018-12-31</td>\n",
       "      <td>12</td>\n",
       "      <td>31</td>\n",
       "    </tr>\n",
       "    <tr>\n",
       "      <th>2</th>\n",
       "      <td>1000_223</td>\n",
       "      <td>1000</td>\n",
       "      <td>2018-12-31</td>\n",
       "      <td>12</td>\n",
       "      <td>31</td>\n",
       "    </tr>\n",
       "    <tr>\n",
       "      <th>3</th>\n",
       "      <td>1000_251</td>\n",
       "      <td>1000</td>\n",
       "      <td>2018-12-27</td>\n",
       "      <td>12</td>\n",
       "      <td>27</td>\n",
       "    </tr>\n",
       "    <tr>\n",
       "      <th>4</th>\n",
       "      <td>1000_255</td>\n",
       "      <td>1000</td>\n",
       "      <td>2018-12-26</td>\n",
       "      <td>12</td>\n",
       "      <td>26</td>\n",
       "    </tr>\n",
       "  </tbody>\n",
       "</table>\n",
       "</div>"
      ],
      "text/plain": [
       "         id  user_id message_date  month  day\n",
       "0  1000_125     1000   2018-12-27     12   27\n",
       "1  1000_160     1000   2018-12-31     12   31\n",
       "2  1000_223     1000   2018-12-31     12   31\n",
       "3  1000_251     1000   2018-12-27     12   27\n",
       "4  1000_255     1000   2018-12-26     12   26"
      ]
     },
     "execution_count": 22,
     "metadata": {},
     "output_type": "execute_result"
    }
   ],
   "source": [
    "messages_df['month'] = messages_df['message_date'].dt.month\n",
    "messages_df['day'] = messages_df['message_date'].dt.day\n",
    "messages_df.head()"
   ]
  },
  {
   "cell_type": "markdown",
   "metadata": {
    "id": "bStkaxn40q1C"
   },
   "source": [
    "## Internet"
   ]
  },
  {
   "cell_type": "code",
   "execution_count": 23,
   "metadata": {
    "id": "e-Uz5qyn0q1C"
   },
   "outputs": [
    {
     "name": "stdout",
     "output_type": "stream",
     "text": [
      "<class 'pandas.core.frame.DataFrame'>\n",
      "RangeIndex: 104825 entries, 0 to 104824\n",
      "Data columns (total 4 columns):\n",
      " #   Column        Non-Null Count   Dtype  \n",
      "---  ------        --------------   -----  \n",
      " 0   id            104825 non-null  object \n",
      " 1   user_id       104825 non-null  int64  \n",
      " 2   session_date  104825 non-null  object \n",
      " 3   mb_used       104825 non-null  float64\n",
      "dtypes: float64(1), int64(1), object(2)\n",
      "memory usage: 3.2+ MB\n"
     ]
    }
   ],
   "source": [
    "# Imprime la información general/resumida sobre el DataFrame de internet\n",
    "internet_df.info()\n"
   ]
  },
  {
   "cell_type": "code",
   "execution_count": 24,
   "metadata": {
    "id": "9r3x_XLw0q1C"
   },
   "outputs": [
    {
     "data": {
      "text/html": [
       "<div>\n",
       "<style scoped>\n",
       "    .dataframe tbody tr th:only-of-type {\n",
       "        vertical-align: middle;\n",
       "    }\n",
       "\n",
       "    .dataframe tbody tr th {\n",
       "        vertical-align: top;\n",
       "    }\n",
       "\n",
       "    .dataframe thead th {\n",
       "        text-align: right;\n",
       "    }\n",
       "</style>\n",
       "<table border=\"1\" class=\"dataframe\">\n",
       "  <thead>\n",
       "    <tr style=\"text-align: right;\">\n",
       "      <th></th>\n",
       "      <th>id</th>\n",
       "      <th>user_id</th>\n",
       "      <th>session_date</th>\n",
       "      <th>mb_used</th>\n",
       "    </tr>\n",
       "  </thead>\n",
       "  <tbody>\n",
       "    <tr>\n",
       "      <th>0</th>\n",
       "      <td>1000_13</td>\n",
       "      <td>1000</td>\n",
       "      <td>2018-12-29</td>\n",
       "      <td>89.86</td>\n",
       "    </tr>\n",
       "    <tr>\n",
       "      <th>1</th>\n",
       "      <td>1000_204</td>\n",
       "      <td>1000</td>\n",
       "      <td>2018-12-31</td>\n",
       "      <td>0.00</td>\n",
       "    </tr>\n",
       "    <tr>\n",
       "      <th>2</th>\n",
       "      <td>1000_379</td>\n",
       "      <td>1000</td>\n",
       "      <td>2018-12-28</td>\n",
       "      <td>660.40</td>\n",
       "    </tr>\n",
       "    <tr>\n",
       "      <th>3</th>\n",
       "      <td>1000_413</td>\n",
       "      <td>1000</td>\n",
       "      <td>2018-12-26</td>\n",
       "      <td>270.99</td>\n",
       "    </tr>\n",
       "    <tr>\n",
       "      <th>4</th>\n",
       "      <td>1000_442</td>\n",
       "      <td>1000</td>\n",
       "      <td>2018-12-27</td>\n",
       "      <td>880.22</td>\n",
       "    </tr>\n",
       "  </tbody>\n",
       "</table>\n",
       "</div>"
      ],
      "text/plain": [
       "         id  user_id session_date  mb_used\n",
       "0   1000_13     1000   2018-12-29    89.86\n",
       "1  1000_204     1000   2018-12-31     0.00\n",
       "2  1000_379     1000   2018-12-28   660.40\n",
       "3  1000_413     1000   2018-12-26   270.99\n",
       "4  1000_442     1000   2018-12-27   880.22"
      ]
     },
     "execution_count": 24,
     "metadata": {},
     "output_type": "execute_result"
    }
   ],
   "source": [
    "# Imprime una muestra de datos para el tráfico de internet\n",
    "\n",
    "internet_df.head()"
   ]
  },
  {
   "cell_type": "markdown",
   "metadata": {
    "id": "EzOG5ik30q1D"
   },
   "source": [
    "Este DataFrame contiene la información de cada sesión de uso de internet de los usuarios de la muestra, contiene el id de la sesión, el id de usuario, la fecha de la sesión y los megabytes utilizados en esa sesión. En cuanto a la calidad de los datos, no hay valores auesentes, voy a comprobar valores duplicados, transformaré la columna session date a tipo datetime."
   ]
  },
  {
   "cell_type": "markdown",
   "metadata": {
    "id": "yA0tkPFg0q1D"
   },
   "source": [
    "### Corregir los datos"
   ]
  },
  {
   "cell_type": "markdown",
   "metadata": {
    "id": "zlZMuIEK0q1D"
   },
   "source": [
    "[Corrige los problemas obvios con los datos basándote en las observaciones iniciales.]"
   ]
  },
  {
   "cell_type": "code",
   "execution_count": 25,
   "metadata": {
    "id": "zVeanzdd0q1E"
   },
   "outputs": [
    {
     "name": "stdout",
     "output_type": "stream",
     "text": [
      "0\n",
      "0\n"
     ]
    }
   ],
   "source": [
    "#Comprobamos is hay filas completamente  duplicadas\n",
    "print(internet_df.duplicated().sum())\n",
    "#Comprobamos los valores duplicados en la columna id, ya que debe de ser unico.\n",
    "print(internet_df['id'].duplicated().sum())"
   ]
  },
  {
   "cell_type": "code",
   "execution_count": 26,
   "metadata": {},
   "outputs": [
    {
     "data": {
      "text/plain": [
       "id                      object\n",
       "user_id                  int64\n",
       "session_date    datetime64[ns]\n",
       "mb_used                float64\n",
       "dtype: object"
      ]
     },
     "execution_count": 26,
     "metadata": {},
     "output_type": "execute_result"
    }
   ],
   "source": [
    "internet_df['session_date'] = pd.to_datetime(internet_df['session_date'])\n",
    "internet_df.dtypes"
   ]
  },
  {
   "cell_type": "markdown",
   "metadata": {
    "id": "e8_mLF4a0q1E"
   },
   "source": [
    "### Enriquecer los datos"
   ]
  },
  {
   "cell_type": "markdown",
   "metadata": {
    "id": "xhNdn2tE0q1E"
   },
   "source": [
    "Vamos a crear dos columnas con el més y día, me interesa más el mes, para poder posteriormente calcular cuantos mensajes envió cada usuario por mes, pero también podriamos analizar la distribución de mensajes enviados por día y mes del año."
   ]
  },
  {
   "cell_type": "code",
   "execution_count": 27,
   "metadata": {
    "id": "ESiYPIEK0q1E"
   },
   "outputs": [
    {
     "data": {
      "text/html": [
       "<div>\n",
       "<style scoped>\n",
       "    .dataframe tbody tr th:only-of-type {\n",
       "        vertical-align: middle;\n",
       "    }\n",
       "\n",
       "    .dataframe tbody tr th {\n",
       "        vertical-align: top;\n",
       "    }\n",
       "\n",
       "    .dataframe thead th {\n",
       "        text-align: right;\n",
       "    }\n",
       "</style>\n",
       "<table border=\"1\" class=\"dataframe\">\n",
       "  <thead>\n",
       "    <tr style=\"text-align: right;\">\n",
       "      <th></th>\n",
       "      <th>id</th>\n",
       "      <th>user_id</th>\n",
       "      <th>session_date</th>\n",
       "      <th>mb_used</th>\n",
       "      <th>session_month</th>\n",
       "      <th>session_day</th>\n",
       "    </tr>\n",
       "  </thead>\n",
       "  <tbody>\n",
       "    <tr>\n",
       "      <th>0</th>\n",
       "      <td>1000_13</td>\n",
       "      <td>1000</td>\n",
       "      <td>2018-12-29</td>\n",
       "      <td>89.86</td>\n",
       "      <td>12</td>\n",
       "      <td>29</td>\n",
       "    </tr>\n",
       "    <tr>\n",
       "      <th>1</th>\n",
       "      <td>1000_204</td>\n",
       "      <td>1000</td>\n",
       "      <td>2018-12-31</td>\n",
       "      <td>0.00</td>\n",
       "      <td>12</td>\n",
       "      <td>31</td>\n",
       "    </tr>\n",
       "    <tr>\n",
       "      <th>2</th>\n",
       "      <td>1000_379</td>\n",
       "      <td>1000</td>\n",
       "      <td>2018-12-28</td>\n",
       "      <td>660.40</td>\n",
       "      <td>12</td>\n",
       "      <td>28</td>\n",
       "    </tr>\n",
       "    <tr>\n",
       "      <th>3</th>\n",
       "      <td>1000_413</td>\n",
       "      <td>1000</td>\n",
       "      <td>2018-12-26</td>\n",
       "      <td>270.99</td>\n",
       "      <td>12</td>\n",
       "      <td>26</td>\n",
       "    </tr>\n",
       "    <tr>\n",
       "      <th>4</th>\n",
       "      <td>1000_442</td>\n",
       "      <td>1000</td>\n",
       "      <td>2018-12-27</td>\n",
       "      <td>880.22</td>\n",
       "      <td>12</td>\n",
       "      <td>27</td>\n",
       "    </tr>\n",
       "  </tbody>\n",
       "</table>\n",
       "</div>"
      ],
      "text/plain": [
       "         id  user_id session_date  mb_used  session_month  session_day\n",
       "0   1000_13     1000   2018-12-29    89.86             12           29\n",
       "1  1000_204     1000   2018-12-31     0.00             12           31\n",
       "2  1000_379     1000   2018-12-28   660.40             12           28\n",
       "3  1000_413     1000   2018-12-26   270.99             12           26\n",
       "4  1000_442     1000   2018-12-27   880.22             12           27"
      ]
     },
     "execution_count": 27,
     "metadata": {},
     "output_type": "execute_result"
    }
   ],
   "source": [
    "internet_df['session_month'] = internet_df['session_date'].dt.month\n",
    "internet_df['session_day'] = internet_df['session_date'].dt.day\n",
    "internet_df.head()"
   ]
  },
  {
   "cell_type": "markdown",
   "metadata": {
    "id": "3UA2cqIW0q1E"
   },
   "source": [
    "## Estudiar las condiciones de las tarifas"
   ]
  },
  {
   "cell_type": "code",
   "execution_count": 28,
   "metadata": {
    "id": "i409op8p0q1F"
   },
   "outputs": [
    {
     "data": {
      "text/html": [
       "<div>\n",
       "<style scoped>\n",
       "    .dataframe tbody tr th:only-of-type {\n",
       "        vertical-align: middle;\n",
       "    }\n",
       "\n",
       "    .dataframe tbody tr th {\n",
       "        vertical-align: top;\n",
       "    }\n",
       "\n",
       "    .dataframe thead th {\n",
       "        text-align: right;\n",
       "    }\n",
       "</style>\n",
       "<table border=\"1\" class=\"dataframe\">\n",
       "  <thead>\n",
       "    <tr style=\"text-align: right;\">\n",
       "      <th></th>\n",
       "      <th>messages_included</th>\n",
       "      <th>mb_per_month_included</th>\n",
       "      <th>minutes_included</th>\n",
       "      <th>usd_monthly_pay</th>\n",
       "      <th>usd_per_gb</th>\n",
       "      <th>usd_per_message</th>\n",
       "      <th>usd_per_minute</th>\n",
       "      <th>plan_name</th>\n",
       "    </tr>\n",
       "  </thead>\n",
       "  <tbody>\n",
       "    <tr>\n",
       "      <th>0</th>\n",
       "      <td>50</td>\n",
       "      <td>15360</td>\n",
       "      <td>500</td>\n",
       "      <td>20</td>\n",
       "      <td>10</td>\n",
       "      <td>0.03</td>\n",
       "      <td>0.03</td>\n",
       "      <td>surf</td>\n",
       "    </tr>\n",
       "    <tr>\n",
       "      <th>1</th>\n",
       "      <td>1000</td>\n",
       "      <td>30720</td>\n",
       "      <td>3000</td>\n",
       "      <td>70</td>\n",
       "      <td>7</td>\n",
       "      <td>0.01</td>\n",
       "      <td>0.01</td>\n",
       "      <td>ultimate</td>\n",
       "    </tr>\n",
       "  </tbody>\n",
       "</table>\n",
       "</div>"
      ],
      "text/plain": [
       "   messages_included  mb_per_month_included  minutes_included  \\\n",
       "0                 50                  15360               500   \n",
       "1               1000                  30720              3000   \n",
       "\n",
       "   usd_monthly_pay  usd_per_gb  usd_per_message  usd_per_minute plan_name  \n",
       "0               20          10             0.03            0.03      surf  \n",
       "1               70           7             0.01            0.01  ultimate  "
      ]
     },
     "execution_count": 28,
     "metadata": {},
     "output_type": "execute_result"
    }
   ],
   "source": [
    "# Imprime las condiciones de la tarifa y asegúrate de que te quedan claras\n",
    "plans_df\n"
   ]
  },
  {
   "cell_type": "markdown",
   "metadata": {
    "id": "hMR1tP5d0q1F"
   },
   "source": [
    "## Agregar datos por usuario\n",
    "\n"
   ]
  },
  {
   "cell_type": "code",
   "execution_count": 29,
   "metadata": {},
   "outputs": [
    {
     "data": {
      "text/html": [
       "<div>\n",
       "<style scoped>\n",
       "    .dataframe tbody tr th:only-of-type {\n",
       "        vertical-align: middle;\n",
       "    }\n",
       "\n",
       "    .dataframe tbody tr th {\n",
       "        vertical-align: top;\n",
       "    }\n",
       "\n",
       "    .dataframe thead th {\n",
       "        text-align: right;\n",
       "    }\n",
       "</style>\n",
       "<table border=\"1\" class=\"dataframe\">\n",
       "  <thead>\n",
       "    <tr style=\"text-align: right;\">\n",
       "      <th></th>\n",
       "      <th>user_id</th>\n",
       "      <th>month</th>\n",
       "      <th>number_of_calls</th>\n",
       "    </tr>\n",
       "  </thead>\n",
       "  <tbody>\n",
       "    <tr>\n",
       "      <th>0</th>\n",
       "      <td>1000</td>\n",
       "      <td>12</td>\n",
       "      <td>16</td>\n",
       "    </tr>\n",
       "    <tr>\n",
       "      <th>1</th>\n",
       "      <td>1001</td>\n",
       "      <td>8</td>\n",
       "      <td>27</td>\n",
       "    </tr>\n",
       "    <tr>\n",
       "      <th>2</th>\n",
       "      <td>1001</td>\n",
       "      <td>9</td>\n",
       "      <td>49</td>\n",
       "    </tr>\n",
       "    <tr>\n",
       "      <th>3</th>\n",
       "      <td>1001</td>\n",
       "      <td>10</td>\n",
       "      <td>65</td>\n",
       "    </tr>\n",
       "    <tr>\n",
       "      <th>4</th>\n",
       "      <td>1001</td>\n",
       "      <td>11</td>\n",
       "      <td>64</td>\n",
       "    </tr>\n",
       "    <tr>\n",
       "      <th>...</th>\n",
       "      <td>...</td>\n",
       "      <td>...</td>\n",
       "      <td>...</td>\n",
       "    </tr>\n",
       "    <tr>\n",
       "      <th>2253</th>\n",
       "      <td>1498</td>\n",
       "      <td>12</td>\n",
       "      <td>39</td>\n",
       "    </tr>\n",
       "    <tr>\n",
       "      <th>2254</th>\n",
       "      <td>1499</td>\n",
       "      <td>9</td>\n",
       "      <td>41</td>\n",
       "    </tr>\n",
       "    <tr>\n",
       "      <th>2255</th>\n",
       "      <td>1499</td>\n",
       "      <td>10</td>\n",
       "      <td>53</td>\n",
       "    </tr>\n",
       "    <tr>\n",
       "      <th>2256</th>\n",
       "      <td>1499</td>\n",
       "      <td>11</td>\n",
       "      <td>45</td>\n",
       "    </tr>\n",
       "    <tr>\n",
       "      <th>2257</th>\n",
       "      <td>1499</td>\n",
       "      <td>12</td>\n",
       "      <td>65</td>\n",
       "    </tr>\n",
       "  </tbody>\n",
       "</table>\n",
       "<p>2258 rows × 3 columns</p>\n",
       "</div>"
      ],
      "text/plain": [
       "      user_id  month  number_of_calls\n",
       "0        1000     12               16\n",
       "1        1001      8               27\n",
       "2        1001      9               49\n",
       "3        1001     10               65\n",
       "4        1001     11               64\n",
       "...       ...    ...              ...\n",
       "2253     1498     12               39\n",
       "2254     1499      9               41\n",
       "2255     1499     10               53\n",
       "2256     1499     11               45\n",
       "2257     1499     12               65\n",
       "\n",
       "[2258 rows x 3 columns]"
      ]
     },
     "execution_count": 29,
     "metadata": {},
     "output_type": "execute_result"
    }
   ],
   "source": [
    "# Calcula el número de llamadas hechas por cada usuario al mes. Guarda el resultado.\n",
    "calls_per_month = calls_df.pivot_table(index = ['user_id', 'call_month'], values = 'id', aggfunc = ['count']).reset_index()\n",
    "calls_per_month.columns = ['user_id', 'month', 'number_of_calls']\n",
    "calls_per_month"
   ]
  },
  {
   "cell_type": "code",
   "execution_count": 30,
   "metadata": {
    "id": "aw2cmuql0q1G"
   },
   "outputs": [
    {
     "data": {
      "text/html": [
       "<div>\n",
       "<style scoped>\n",
       "    .dataframe tbody tr th:only-of-type {\n",
       "        vertical-align: middle;\n",
       "    }\n",
       "\n",
       "    .dataframe tbody tr th {\n",
       "        vertical-align: top;\n",
       "    }\n",
       "\n",
       "    .dataframe thead th {\n",
       "        text-align: right;\n",
       "    }\n",
       "</style>\n",
       "<table border=\"1\" class=\"dataframe\">\n",
       "  <thead>\n",
       "    <tr style=\"text-align: right;\">\n",
       "      <th></th>\n",
       "      <th>user_id</th>\n",
       "      <th>month</th>\n",
       "      <th>total_minutes</th>\n",
       "    </tr>\n",
       "  </thead>\n",
       "  <tbody>\n",
       "    <tr>\n",
       "      <th>0</th>\n",
       "      <td>1000</td>\n",
       "      <td>12</td>\n",
       "      <td>124</td>\n",
       "    </tr>\n",
       "    <tr>\n",
       "      <th>1</th>\n",
       "      <td>1001</td>\n",
       "      <td>8</td>\n",
       "      <td>182</td>\n",
       "    </tr>\n",
       "    <tr>\n",
       "      <th>2</th>\n",
       "      <td>1001</td>\n",
       "      <td>9</td>\n",
       "      <td>315</td>\n",
       "    </tr>\n",
       "    <tr>\n",
       "      <th>3</th>\n",
       "      <td>1001</td>\n",
       "      <td>10</td>\n",
       "      <td>393</td>\n",
       "    </tr>\n",
       "    <tr>\n",
       "      <th>4</th>\n",
       "      <td>1001</td>\n",
       "      <td>11</td>\n",
       "      <td>426</td>\n",
       "    </tr>\n",
       "    <tr>\n",
       "      <th>...</th>\n",
       "      <td>...</td>\n",
       "      <td>...</td>\n",
       "      <td>...</td>\n",
       "    </tr>\n",
       "    <tr>\n",
       "      <th>2253</th>\n",
       "      <td>1498</td>\n",
       "      <td>12</td>\n",
       "      <td>339</td>\n",
       "    </tr>\n",
       "    <tr>\n",
       "      <th>2254</th>\n",
       "      <td>1499</td>\n",
       "      <td>9</td>\n",
       "      <td>346</td>\n",
       "    </tr>\n",
       "    <tr>\n",
       "      <th>2255</th>\n",
       "      <td>1499</td>\n",
       "      <td>10</td>\n",
       "      <td>385</td>\n",
       "    </tr>\n",
       "    <tr>\n",
       "      <th>2256</th>\n",
       "      <td>1499</td>\n",
       "      <td>11</td>\n",
       "      <td>308</td>\n",
       "    </tr>\n",
       "    <tr>\n",
       "      <th>2257</th>\n",
       "      <td>1499</td>\n",
       "      <td>12</td>\n",
       "      <td>496</td>\n",
       "    </tr>\n",
       "  </tbody>\n",
       "</table>\n",
       "<p>2258 rows × 3 columns</p>\n",
       "</div>"
      ],
      "text/plain": [
       "      user_id  month  total_minutes\n",
       "0        1000     12            124\n",
       "1        1001      8            182\n",
       "2        1001      9            315\n",
       "3        1001     10            393\n",
       "4        1001     11            426\n",
       "...       ...    ...            ...\n",
       "2253     1498     12            339\n",
       "2254     1499      9            346\n",
       "2255     1499     10            385\n",
       "2256     1499     11            308\n",
       "2257     1499     12            496\n",
       "\n",
       "[2258 rows x 3 columns]"
      ]
     },
     "execution_count": 30,
     "metadata": {},
     "output_type": "execute_result"
    }
   ],
   "source": [
    "# Calcula la cantidad de minutos usados por cada usuario al mes. Guarda el resultado.\n",
    "mins_per_month = calls_df.pivot_table(index = ['user_id', 'call_month'], values = 'duration', aggfunc = ['sum']).reset_index()\n",
    "mins_per_month.columns = ['user_id', 'month', 'total_minutes']\n",
    "mins_per_month"
   ]
  },
  {
   "cell_type": "code",
   "execution_count": 31,
   "metadata": {
    "id": "CcQvNHn60q1G"
   },
   "outputs": [
    {
     "data": {
      "text/html": [
       "<div>\n",
       "<style scoped>\n",
       "    .dataframe tbody tr th:only-of-type {\n",
       "        vertical-align: middle;\n",
       "    }\n",
       "\n",
       "    .dataframe tbody tr th {\n",
       "        vertical-align: top;\n",
       "    }\n",
       "\n",
       "    .dataframe thead th {\n",
       "        text-align: right;\n",
       "    }\n",
       "</style>\n",
       "<table border=\"1\" class=\"dataframe\">\n",
       "  <thead>\n",
       "    <tr style=\"text-align: right;\">\n",
       "      <th></th>\n",
       "      <th>user_id</th>\n",
       "      <th>month</th>\n",
       "      <th>number_of_messages</th>\n",
       "    </tr>\n",
       "  </thead>\n",
       "  <tbody>\n",
       "    <tr>\n",
       "      <th>0</th>\n",
       "      <td>1000</td>\n",
       "      <td>12</td>\n",
       "      <td>11</td>\n",
       "    </tr>\n",
       "    <tr>\n",
       "      <th>1</th>\n",
       "      <td>1001</td>\n",
       "      <td>8</td>\n",
       "      <td>30</td>\n",
       "    </tr>\n",
       "    <tr>\n",
       "      <th>2</th>\n",
       "      <td>1001</td>\n",
       "      <td>9</td>\n",
       "      <td>44</td>\n",
       "    </tr>\n",
       "    <tr>\n",
       "      <th>3</th>\n",
       "      <td>1001</td>\n",
       "      <td>10</td>\n",
       "      <td>53</td>\n",
       "    </tr>\n",
       "    <tr>\n",
       "      <th>4</th>\n",
       "      <td>1001</td>\n",
       "      <td>11</td>\n",
       "      <td>36</td>\n",
       "    </tr>\n",
       "    <tr>\n",
       "      <th>...</th>\n",
       "      <td>...</td>\n",
       "      <td>...</td>\n",
       "      <td>...</td>\n",
       "    </tr>\n",
       "    <tr>\n",
       "      <th>1801</th>\n",
       "      <td>1496</td>\n",
       "      <td>9</td>\n",
       "      <td>21</td>\n",
       "    </tr>\n",
       "    <tr>\n",
       "      <th>1802</th>\n",
       "      <td>1496</td>\n",
       "      <td>10</td>\n",
       "      <td>18</td>\n",
       "    </tr>\n",
       "    <tr>\n",
       "      <th>1803</th>\n",
       "      <td>1496</td>\n",
       "      <td>11</td>\n",
       "      <td>13</td>\n",
       "    </tr>\n",
       "    <tr>\n",
       "      <th>1804</th>\n",
       "      <td>1496</td>\n",
       "      <td>12</td>\n",
       "      <td>11</td>\n",
       "    </tr>\n",
       "    <tr>\n",
       "      <th>1805</th>\n",
       "      <td>1497</td>\n",
       "      <td>12</td>\n",
       "      <td>50</td>\n",
       "    </tr>\n",
       "  </tbody>\n",
       "</table>\n",
       "<p>1806 rows × 3 columns</p>\n",
       "</div>"
      ],
      "text/plain": [
       "      user_id  month  number_of_messages\n",
       "0        1000     12                  11\n",
       "1        1001      8                  30\n",
       "2        1001      9                  44\n",
       "3        1001     10                  53\n",
       "4        1001     11                  36\n",
       "...       ...    ...                 ...\n",
       "1801     1496      9                  21\n",
       "1802     1496     10                  18\n",
       "1803     1496     11                  13\n",
       "1804     1496     12                  11\n",
       "1805     1497     12                  50\n",
       "\n",
       "[1806 rows x 3 columns]"
      ]
     },
     "execution_count": 31,
     "metadata": {},
     "output_type": "execute_result"
    }
   ],
   "source": [
    "# Calcula el número de mensajes enviados por cada usuario al mes. Guarda el resultado.\n",
    "messages_per_month = messages_df.pivot_table(index = ['user_id', 'month'], values = 'id', aggfunc = ['count']).reset_index()\n",
    "messages_per_month.columns = ['user_id', 'month', 'number_of_messages']\n",
    "messages_per_month"
   ]
  },
  {
   "cell_type": "code",
   "execution_count": 32,
   "metadata": {
    "id": "H1AqN2eG0q1H"
   },
   "outputs": [
    {
     "data": {
      "text/html": [
       "<div>\n",
       "<style scoped>\n",
       "    .dataframe tbody tr th:only-of-type {\n",
       "        vertical-align: middle;\n",
       "    }\n",
       "\n",
       "    .dataframe tbody tr th {\n",
       "        vertical-align: top;\n",
       "    }\n",
       "\n",
       "    .dataframe thead th {\n",
       "        text-align: right;\n",
       "    }\n",
       "</style>\n",
       "<table border=\"1\" class=\"dataframe\">\n",
       "  <thead>\n",
       "    <tr style=\"text-align: right;\">\n",
       "      <th></th>\n",
       "      <th>user_id</th>\n",
       "      <th>month</th>\n",
       "      <th>total_megabytes</th>\n",
       "      <th>total_gigabytes</th>\n",
       "    </tr>\n",
       "  </thead>\n",
       "  <tbody>\n",
       "    <tr>\n",
       "      <th>0</th>\n",
       "      <td>1000</td>\n",
       "      <td>12</td>\n",
       "      <td>1901.47</td>\n",
       "      <td>2</td>\n",
       "    </tr>\n",
       "    <tr>\n",
       "      <th>1</th>\n",
       "      <td>1001</td>\n",
       "      <td>8</td>\n",
       "      <td>6919.15</td>\n",
       "      <td>7</td>\n",
       "    </tr>\n",
       "    <tr>\n",
       "      <th>2</th>\n",
       "      <td>1001</td>\n",
       "      <td>9</td>\n",
       "      <td>13314.82</td>\n",
       "      <td>14</td>\n",
       "    </tr>\n",
       "    <tr>\n",
       "      <th>3</th>\n",
       "      <td>1001</td>\n",
       "      <td>10</td>\n",
       "      <td>22330.49</td>\n",
       "      <td>22</td>\n",
       "    </tr>\n",
       "    <tr>\n",
       "      <th>4</th>\n",
       "      <td>1001</td>\n",
       "      <td>11</td>\n",
       "      <td>18504.30</td>\n",
       "      <td>19</td>\n",
       "    </tr>\n",
       "    <tr>\n",
       "      <th>...</th>\n",
       "      <td>...</td>\n",
       "      <td>...</td>\n",
       "      <td>...</td>\n",
       "      <td>...</td>\n",
       "    </tr>\n",
       "    <tr>\n",
       "      <th>2272</th>\n",
       "      <td>1498</td>\n",
       "      <td>12</td>\n",
       "      <td>23137.69</td>\n",
       "      <td>23</td>\n",
       "    </tr>\n",
       "    <tr>\n",
       "      <th>2273</th>\n",
       "      <td>1499</td>\n",
       "      <td>9</td>\n",
       "      <td>12984.76</td>\n",
       "      <td>13</td>\n",
       "    </tr>\n",
       "    <tr>\n",
       "      <th>2274</th>\n",
       "      <td>1499</td>\n",
       "      <td>10</td>\n",
       "      <td>19492.43</td>\n",
       "      <td>20</td>\n",
       "    </tr>\n",
       "    <tr>\n",
       "      <th>2275</th>\n",
       "      <td>1499</td>\n",
       "      <td>11</td>\n",
       "      <td>16813.83</td>\n",
       "      <td>17</td>\n",
       "    </tr>\n",
       "    <tr>\n",
       "      <th>2276</th>\n",
       "      <td>1499</td>\n",
       "      <td>12</td>\n",
       "      <td>22059.21</td>\n",
       "      <td>22</td>\n",
       "    </tr>\n",
       "  </tbody>\n",
       "</table>\n",
       "<p>2277 rows × 4 columns</p>\n",
       "</div>"
      ],
      "text/plain": [
       "      user_id  month  total_megabytes  total_gigabytes\n",
       "0        1000     12          1901.47                2\n",
       "1        1001      8          6919.15                7\n",
       "2        1001      9         13314.82               14\n",
       "3        1001     10         22330.49               22\n",
       "4        1001     11         18504.30               19\n",
       "...       ...    ...              ...              ...\n",
       "2272     1498     12         23137.69               23\n",
       "2273     1499      9         12984.76               13\n",
       "2274     1499     10         19492.43               20\n",
       "2275     1499     11         16813.83               17\n",
       "2276     1499     12         22059.21               22\n",
       "\n",
       "[2277 rows x 4 columns]"
      ]
     },
     "execution_count": 32,
     "metadata": {},
     "output_type": "execute_result"
    }
   ],
   "source": [
    "# Calcula el volumen del tráfico de Internet usado por cada usuario al mes. Guarda el resultado.\n",
    "mb_per_month = internet_df.pivot_table(index = ['user_id', 'session_month'], values = 'mb_used', aggfunc = ['sum']).reset_index()\n",
    "mb_per_month.columns = ['user_id', 'month', 'total_megabytes']\n",
    "#Ahora voy a crear otra columna que contenga el total de gigabytes por usuario al mes, para esto,\n",
    "#dividimos el número de megabytes entre 1024 ya que 1 gigabyte = 1024 megabytes.\n",
    "mb_per_month['total_gigabytes'] = mb_per_month['total_megabytes'] / 1024\n",
    "#Ahora redondeamos el total de gigabytes al mes al entero superior ya que así lo maneja Megaline.\n",
    "#Por ejemplo, el primer usuario no llego a los 2048 megabytes, pero redondeamos y frente a megaline, utilizo 2 gigas.\n",
    "mb_per_month['total_gigabytes'] = np.ceil(mb_per_month['total_gigabytes']).astype(int)\n",
    "\n",
    "mb_per_month"
   ]
  },
  {
   "cell_type": "markdown",
   "metadata": {
    "id": "VDfYXnj80q1H"
   },
   "source": [
    "[Junta los datos agregados en un DataFrame para que haya un registro que represente lo que consumió un usuario único en un mes determinado.]"
   ]
  },
  {
   "cell_type": "code",
   "execution_count": 33,
   "metadata": {
    "id": "FW99ykyf0q1H"
   },
   "outputs": [
    {
     "data": {
      "text/html": [
       "<div>\n",
       "<style scoped>\n",
       "    .dataframe tbody tr th:only-of-type {\n",
       "        vertical-align: middle;\n",
       "    }\n",
       "\n",
       "    .dataframe tbody tr th {\n",
       "        vertical-align: top;\n",
       "    }\n",
       "\n",
       "    .dataframe thead th {\n",
       "        text-align: right;\n",
       "    }\n",
       "</style>\n",
       "<table border=\"1\" class=\"dataframe\">\n",
       "  <thead>\n",
       "    <tr style=\"text-align: right;\">\n",
       "      <th></th>\n",
       "      <th>user_id</th>\n",
       "      <th>month</th>\n",
       "      <th>number_of_calls</th>\n",
       "      <th>total_minutes</th>\n",
       "      <th>number_of_messages</th>\n",
       "      <th>total_megabytes</th>\n",
       "      <th>total_gigabytes</th>\n",
       "    </tr>\n",
       "  </thead>\n",
       "  <tbody>\n",
       "    <tr>\n",
       "      <th>0</th>\n",
       "      <td>1000</td>\n",
       "      <td>12</td>\n",
       "      <td>16.0</td>\n",
       "      <td>124.0</td>\n",
       "      <td>11.0</td>\n",
       "      <td>1901.47</td>\n",
       "      <td>2.0</td>\n",
       "    </tr>\n",
       "    <tr>\n",
       "      <th>1</th>\n",
       "      <td>1001</td>\n",
       "      <td>8</td>\n",
       "      <td>27.0</td>\n",
       "      <td>182.0</td>\n",
       "      <td>30.0</td>\n",
       "      <td>6919.15</td>\n",
       "      <td>7.0</td>\n",
       "    </tr>\n",
       "    <tr>\n",
       "      <th>2</th>\n",
       "      <td>1001</td>\n",
       "      <td>9</td>\n",
       "      <td>49.0</td>\n",
       "      <td>315.0</td>\n",
       "      <td>44.0</td>\n",
       "      <td>13314.82</td>\n",
       "      <td>14.0</td>\n",
       "    </tr>\n",
       "    <tr>\n",
       "      <th>3</th>\n",
       "      <td>1001</td>\n",
       "      <td>10</td>\n",
       "      <td>65.0</td>\n",
       "      <td>393.0</td>\n",
       "      <td>53.0</td>\n",
       "      <td>22330.49</td>\n",
       "      <td>22.0</td>\n",
       "    </tr>\n",
       "    <tr>\n",
       "      <th>4</th>\n",
       "      <td>1001</td>\n",
       "      <td>11</td>\n",
       "      <td>64.0</td>\n",
       "      <td>426.0</td>\n",
       "      <td>36.0</td>\n",
       "      <td>18504.30</td>\n",
       "      <td>19.0</td>\n",
       "    </tr>\n",
       "    <tr>\n",
       "      <th>...</th>\n",
       "      <td>...</td>\n",
       "      <td>...</td>\n",
       "      <td>...</td>\n",
       "      <td>...</td>\n",
       "      <td>...</td>\n",
       "      <td>...</td>\n",
       "      <td>...</td>\n",
       "    </tr>\n",
       "    <tr>\n",
       "      <th>2288</th>\n",
       "      <td>1498</td>\n",
       "      <td>12</td>\n",
       "      <td>39.0</td>\n",
       "      <td>339.0</td>\n",
       "      <td>0.0</td>\n",
       "      <td>23137.69</td>\n",
       "      <td>23.0</td>\n",
       "    </tr>\n",
       "    <tr>\n",
       "      <th>2289</th>\n",
       "      <td>1499</td>\n",
       "      <td>9</td>\n",
       "      <td>41.0</td>\n",
       "      <td>346.0</td>\n",
       "      <td>0.0</td>\n",
       "      <td>12984.76</td>\n",
       "      <td>13.0</td>\n",
       "    </tr>\n",
       "    <tr>\n",
       "      <th>2290</th>\n",
       "      <td>1499</td>\n",
       "      <td>10</td>\n",
       "      <td>53.0</td>\n",
       "      <td>385.0</td>\n",
       "      <td>0.0</td>\n",
       "      <td>19492.43</td>\n",
       "      <td>20.0</td>\n",
       "    </tr>\n",
       "    <tr>\n",
       "      <th>2291</th>\n",
       "      <td>1499</td>\n",
       "      <td>11</td>\n",
       "      <td>45.0</td>\n",
       "      <td>308.0</td>\n",
       "      <td>0.0</td>\n",
       "      <td>16813.83</td>\n",
       "      <td>17.0</td>\n",
       "    </tr>\n",
       "    <tr>\n",
       "      <th>2292</th>\n",
       "      <td>1499</td>\n",
       "      <td>12</td>\n",
       "      <td>65.0</td>\n",
       "      <td>496.0</td>\n",
       "      <td>0.0</td>\n",
       "      <td>22059.21</td>\n",
       "      <td>22.0</td>\n",
       "    </tr>\n",
       "  </tbody>\n",
       "</table>\n",
       "<p>2293 rows × 7 columns</p>\n",
       "</div>"
      ],
      "text/plain": [
       "      user_id  month  number_of_calls  total_minutes  number_of_messages  \\\n",
       "0        1000     12             16.0          124.0                11.0   \n",
       "1        1001      8             27.0          182.0                30.0   \n",
       "2        1001      9             49.0          315.0                44.0   \n",
       "3        1001     10             65.0          393.0                53.0   \n",
       "4        1001     11             64.0          426.0                36.0   \n",
       "...       ...    ...              ...            ...                 ...   \n",
       "2288     1498     12             39.0          339.0                 0.0   \n",
       "2289     1499      9             41.0          346.0                 0.0   \n",
       "2290     1499     10             53.0          385.0                 0.0   \n",
       "2291     1499     11             45.0          308.0                 0.0   \n",
       "2292     1499     12             65.0          496.0                 0.0   \n",
       "\n",
       "      total_megabytes  total_gigabytes  \n",
       "0             1901.47              2.0  \n",
       "1             6919.15              7.0  \n",
       "2            13314.82             14.0  \n",
       "3            22330.49             22.0  \n",
       "4            18504.30             19.0  \n",
       "...               ...              ...  \n",
       "2288         23137.69             23.0  \n",
       "2289         12984.76             13.0  \n",
       "2290         19492.43             20.0  \n",
       "2291         16813.83             17.0  \n",
       "2292         22059.21             22.0  \n",
       "\n",
       "[2293 rows x 7 columns]"
      ]
     },
     "execution_count": 33,
     "metadata": {},
     "output_type": "execute_result"
    }
   ],
   "source": [
    "# Fusiona los datos de llamadas, minutos, mensajes e Internet con base en user_id y month\n",
    "#Vamos a unir los 4 DataFrames utilizando Merge, en el parametro how, usaremos 'outer', para no perder los valores en los que\n",
    "#el usuario no tuvo actividad.\n",
    "total_per_user = calls_per_month.merge(mins_per_month, on = ['user_id', 'month'], how = 'outer')\n",
    "total_per_user = total_per_user.merge(messages_per_month, on = ['user_id', 'month'], how = 'outer')\n",
    "total_per_user = total_per_user.merge(mb_per_month, on = ['user_id', 'month'], how = 'outer')\n",
    "#Rellenamos los valores ausentes con 0, indicando que el usuario no tuvo actividad.\n",
    "total_per_user = total_per_user.fillna(0)\n",
    "total_per_user"
   ]
  },
  {
   "cell_type": "code",
   "execution_count": 34,
   "metadata": {
    "id": "0dNOXHag0q1H"
   },
   "outputs": [],
   "source": [
    "# Añade la información de la tarifa\n",
    "total_per_user = total_per_user.merge(users_df, how = 'inner', on = ['user_id'])"
   ]
  },
  {
   "cell_type": "code",
   "execution_count": 35,
   "metadata": {},
   "outputs": [],
   "source": [
    "total_per_user = total_per_user.merge(plans_df, how = 'inner', left_on = 'plan', right_on = 'plan_name')"
   ]
  },
  {
   "cell_type": "code",
   "execution_count": 36,
   "metadata": {},
   "outputs": [
    {
     "data": {
      "text/html": [
       "<div>\n",
       "<style scoped>\n",
       "    .dataframe tbody tr th:only-of-type {\n",
       "        vertical-align: middle;\n",
       "    }\n",
       "\n",
       "    .dataframe tbody tr th {\n",
       "        vertical-align: top;\n",
       "    }\n",
       "\n",
       "    .dataframe thead th {\n",
       "        text-align: right;\n",
       "    }\n",
       "</style>\n",
       "<table border=\"1\" class=\"dataframe\">\n",
       "  <thead>\n",
       "    <tr style=\"text-align: right;\">\n",
       "      <th></th>\n",
       "      <th>user_id</th>\n",
       "      <th>month</th>\n",
       "      <th>number_of_calls</th>\n",
       "      <th>total_minutes</th>\n",
       "      <th>number_of_messages</th>\n",
       "      <th>total_megabytes</th>\n",
       "      <th>total_gigabytes</th>\n",
       "      <th>first_name</th>\n",
       "      <th>last_name</th>\n",
       "      <th>age</th>\n",
       "      <th>...</th>\n",
       "      <th>reg_month</th>\n",
       "      <th>reg_day</th>\n",
       "      <th>messages_included</th>\n",
       "      <th>mb_per_month_included</th>\n",
       "      <th>minutes_included</th>\n",
       "      <th>usd_monthly_pay</th>\n",
       "      <th>usd_per_gb</th>\n",
       "      <th>usd_per_message</th>\n",
       "      <th>usd_per_minute</th>\n",
       "      <th>plan_name</th>\n",
       "    </tr>\n",
       "  </thead>\n",
       "  <tbody>\n",
       "    <tr>\n",
       "      <th>0</th>\n",
       "      <td>1000</td>\n",
       "      <td>12</td>\n",
       "      <td>16.0</td>\n",
       "      <td>124.0</td>\n",
       "      <td>11.0</td>\n",
       "      <td>1901.47</td>\n",
       "      <td>2.0</td>\n",
       "      <td>Anamaria</td>\n",
       "      <td>Bauer</td>\n",
       "      <td>45</td>\n",
       "      <td>...</td>\n",
       "      <td>12</td>\n",
       "      <td>24</td>\n",
       "      <td>1000</td>\n",
       "      <td>30720</td>\n",
       "      <td>3000</td>\n",
       "      <td>70</td>\n",
       "      <td>7</td>\n",
       "      <td>0.01</td>\n",
       "      <td>0.01</td>\n",
       "      <td>ultimate</td>\n",
       "    </tr>\n",
       "    <tr>\n",
       "      <th>1</th>\n",
       "      <td>1001</td>\n",
       "      <td>8</td>\n",
       "      <td>27.0</td>\n",
       "      <td>182.0</td>\n",
       "      <td>30.0</td>\n",
       "      <td>6919.15</td>\n",
       "      <td>7.0</td>\n",
       "      <td>Mickey</td>\n",
       "      <td>Wilkerson</td>\n",
       "      <td>28</td>\n",
       "      <td>...</td>\n",
       "      <td>8</td>\n",
       "      <td>13</td>\n",
       "      <td>50</td>\n",
       "      <td>15360</td>\n",
       "      <td>500</td>\n",
       "      <td>20</td>\n",
       "      <td>10</td>\n",
       "      <td>0.03</td>\n",
       "      <td>0.03</td>\n",
       "      <td>surf</td>\n",
       "    </tr>\n",
       "    <tr>\n",
       "      <th>2</th>\n",
       "      <td>1001</td>\n",
       "      <td>9</td>\n",
       "      <td>49.0</td>\n",
       "      <td>315.0</td>\n",
       "      <td>44.0</td>\n",
       "      <td>13314.82</td>\n",
       "      <td>14.0</td>\n",
       "      <td>Mickey</td>\n",
       "      <td>Wilkerson</td>\n",
       "      <td>28</td>\n",
       "      <td>...</td>\n",
       "      <td>8</td>\n",
       "      <td>13</td>\n",
       "      <td>50</td>\n",
       "      <td>15360</td>\n",
       "      <td>500</td>\n",
       "      <td>20</td>\n",
       "      <td>10</td>\n",
       "      <td>0.03</td>\n",
       "      <td>0.03</td>\n",
       "      <td>surf</td>\n",
       "    </tr>\n",
       "    <tr>\n",
       "      <th>3</th>\n",
       "      <td>1001</td>\n",
       "      <td>10</td>\n",
       "      <td>65.0</td>\n",
       "      <td>393.0</td>\n",
       "      <td>53.0</td>\n",
       "      <td>22330.49</td>\n",
       "      <td>22.0</td>\n",
       "      <td>Mickey</td>\n",
       "      <td>Wilkerson</td>\n",
       "      <td>28</td>\n",
       "      <td>...</td>\n",
       "      <td>8</td>\n",
       "      <td>13</td>\n",
       "      <td>50</td>\n",
       "      <td>15360</td>\n",
       "      <td>500</td>\n",
       "      <td>20</td>\n",
       "      <td>10</td>\n",
       "      <td>0.03</td>\n",
       "      <td>0.03</td>\n",
       "      <td>surf</td>\n",
       "    </tr>\n",
       "    <tr>\n",
       "      <th>4</th>\n",
       "      <td>1001</td>\n",
       "      <td>11</td>\n",
       "      <td>64.0</td>\n",
       "      <td>426.0</td>\n",
       "      <td>36.0</td>\n",
       "      <td>18504.30</td>\n",
       "      <td>19.0</td>\n",
       "      <td>Mickey</td>\n",
       "      <td>Wilkerson</td>\n",
       "      <td>28</td>\n",
       "      <td>...</td>\n",
       "      <td>8</td>\n",
       "      <td>13</td>\n",
       "      <td>50</td>\n",
       "      <td>15360</td>\n",
       "      <td>500</td>\n",
       "      <td>20</td>\n",
       "      <td>10</td>\n",
       "      <td>0.03</td>\n",
       "      <td>0.03</td>\n",
       "      <td>surf</td>\n",
       "    </tr>\n",
       "    <tr>\n",
       "      <th>...</th>\n",
       "      <td>...</td>\n",
       "      <td>...</td>\n",
       "      <td>...</td>\n",
       "      <td>...</td>\n",
       "      <td>...</td>\n",
       "      <td>...</td>\n",
       "      <td>...</td>\n",
       "      <td>...</td>\n",
       "      <td>...</td>\n",
       "      <td>...</td>\n",
       "      <td>...</td>\n",
       "      <td>...</td>\n",
       "      <td>...</td>\n",
       "      <td>...</td>\n",
       "      <td>...</td>\n",
       "      <td>...</td>\n",
       "      <td>...</td>\n",
       "      <td>...</td>\n",
       "      <td>...</td>\n",
       "      <td>...</td>\n",
       "      <td>...</td>\n",
       "    </tr>\n",
       "    <tr>\n",
       "      <th>2288</th>\n",
       "      <td>1498</td>\n",
       "      <td>12</td>\n",
       "      <td>39.0</td>\n",
       "      <td>339.0</td>\n",
       "      <td>0.0</td>\n",
       "      <td>23137.69</td>\n",
       "      <td>23.0</td>\n",
       "      <td>Scot</td>\n",
       "      <td>Williamson</td>\n",
       "      <td>51</td>\n",
       "      <td>...</td>\n",
       "      <td>2</td>\n",
       "      <td>4</td>\n",
       "      <td>50</td>\n",
       "      <td>15360</td>\n",
       "      <td>500</td>\n",
       "      <td>20</td>\n",
       "      <td>10</td>\n",
       "      <td>0.03</td>\n",
       "      <td>0.03</td>\n",
       "      <td>surf</td>\n",
       "    </tr>\n",
       "    <tr>\n",
       "      <th>2289</th>\n",
       "      <td>1499</td>\n",
       "      <td>9</td>\n",
       "      <td>41.0</td>\n",
       "      <td>346.0</td>\n",
       "      <td>0.0</td>\n",
       "      <td>12984.76</td>\n",
       "      <td>13.0</td>\n",
       "      <td>Shena</td>\n",
       "      <td>Dickson</td>\n",
       "      <td>37</td>\n",
       "      <td>...</td>\n",
       "      <td>5</td>\n",
       "      <td>6</td>\n",
       "      <td>50</td>\n",
       "      <td>15360</td>\n",
       "      <td>500</td>\n",
       "      <td>20</td>\n",
       "      <td>10</td>\n",
       "      <td>0.03</td>\n",
       "      <td>0.03</td>\n",
       "      <td>surf</td>\n",
       "    </tr>\n",
       "    <tr>\n",
       "      <th>2290</th>\n",
       "      <td>1499</td>\n",
       "      <td>10</td>\n",
       "      <td>53.0</td>\n",
       "      <td>385.0</td>\n",
       "      <td>0.0</td>\n",
       "      <td>19492.43</td>\n",
       "      <td>20.0</td>\n",
       "      <td>Shena</td>\n",
       "      <td>Dickson</td>\n",
       "      <td>37</td>\n",
       "      <td>...</td>\n",
       "      <td>5</td>\n",
       "      <td>6</td>\n",
       "      <td>50</td>\n",
       "      <td>15360</td>\n",
       "      <td>500</td>\n",
       "      <td>20</td>\n",
       "      <td>10</td>\n",
       "      <td>0.03</td>\n",
       "      <td>0.03</td>\n",
       "      <td>surf</td>\n",
       "    </tr>\n",
       "    <tr>\n",
       "      <th>2291</th>\n",
       "      <td>1499</td>\n",
       "      <td>11</td>\n",
       "      <td>45.0</td>\n",
       "      <td>308.0</td>\n",
       "      <td>0.0</td>\n",
       "      <td>16813.83</td>\n",
       "      <td>17.0</td>\n",
       "      <td>Shena</td>\n",
       "      <td>Dickson</td>\n",
       "      <td>37</td>\n",
       "      <td>...</td>\n",
       "      <td>5</td>\n",
       "      <td>6</td>\n",
       "      <td>50</td>\n",
       "      <td>15360</td>\n",
       "      <td>500</td>\n",
       "      <td>20</td>\n",
       "      <td>10</td>\n",
       "      <td>0.03</td>\n",
       "      <td>0.03</td>\n",
       "      <td>surf</td>\n",
       "    </tr>\n",
       "    <tr>\n",
       "      <th>2292</th>\n",
       "      <td>1499</td>\n",
       "      <td>12</td>\n",
       "      <td>65.0</td>\n",
       "      <td>496.0</td>\n",
       "      <td>0.0</td>\n",
       "      <td>22059.21</td>\n",
       "      <td>22.0</td>\n",
       "      <td>Shena</td>\n",
       "      <td>Dickson</td>\n",
       "      <td>37</td>\n",
       "      <td>...</td>\n",
       "      <td>5</td>\n",
       "      <td>6</td>\n",
       "      <td>50</td>\n",
       "      <td>15360</td>\n",
       "      <td>500</td>\n",
       "      <td>20</td>\n",
       "      <td>10</td>\n",
       "      <td>0.03</td>\n",
       "      <td>0.03</td>\n",
       "      <td>surf</td>\n",
       "    </tr>\n",
       "  </tbody>\n",
       "</table>\n",
       "<p>2293 rows × 24 columns</p>\n",
       "</div>"
      ],
      "text/plain": [
       "      user_id  month  number_of_calls  total_minutes  number_of_messages  \\\n",
       "0        1000     12             16.0          124.0                11.0   \n",
       "1        1001      8             27.0          182.0                30.0   \n",
       "2        1001      9             49.0          315.0                44.0   \n",
       "3        1001     10             65.0          393.0                53.0   \n",
       "4        1001     11             64.0          426.0                36.0   \n",
       "...       ...    ...              ...            ...                 ...   \n",
       "2288     1498     12             39.0          339.0                 0.0   \n",
       "2289     1499      9             41.0          346.0                 0.0   \n",
       "2290     1499     10             53.0          385.0                 0.0   \n",
       "2291     1499     11             45.0          308.0                 0.0   \n",
       "2292     1499     12             65.0          496.0                 0.0   \n",
       "\n",
       "      total_megabytes  total_gigabytes first_name   last_name  age  ...  \\\n",
       "0             1901.47              2.0   Anamaria       Bauer   45  ...   \n",
       "1             6919.15              7.0     Mickey   Wilkerson   28  ...   \n",
       "2            13314.82             14.0     Mickey   Wilkerson   28  ...   \n",
       "3            22330.49             22.0     Mickey   Wilkerson   28  ...   \n",
       "4            18504.30             19.0     Mickey   Wilkerson   28  ...   \n",
       "...               ...              ...        ...         ...  ...  ...   \n",
       "2288         23137.69             23.0       Scot  Williamson   51  ...   \n",
       "2289         12984.76             13.0      Shena     Dickson   37  ...   \n",
       "2290         19492.43             20.0      Shena     Dickson   37  ...   \n",
       "2291         16813.83             17.0      Shena     Dickson   37  ...   \n",
       "2292         22059.21             22.0      Shena     Dickson   37  ...   \n",
       "\n",
       "     reg_month reg_day messages_included mb_per_month_included  \\\n",
       "0           12      24              1000                 30720   \n",
       "1            8      13                50                 15360   \n",
       "2            8      13                50                 15360   \n",
       "3            8      13                50                 15360   \n",
       "4            8      13                50                 15360   \n",
       "...        ...     ...               ...                   ...   \n",
       "2288         2       4                50                 15360   \n",
       "2289         5       6                50                 15360   \n",
       "2290         5       6                50                 15360   \n",
       "2291         5       6                50                 15360   \n",
       "2292         5       6                50                 15360   \n",
       "\n",
       "      minutes_included  usd_monthly_pay  usd_per_gb  usd_per_message  \\\n",
       "0                 3000               70           7             0.01   \n",
       "1                  500               20          10             0.03   \n",
       "2                  500               20          10             0.03   \n",
       "3                  500               20          10             0.03   \n",
       "4                  500               20          10             0.03   \n",
       "...                ...              ...         ...              ...   \n",
       "2288               500               20          10             0.03   \n",
       "2289               500               20          10             0.03   \n",
       "2290               500               20          10             0.03   \n",
       "2291               500               20          10             0.03   \n",
       "2292               500               20          10             0.03   \n",
       "\n",
       "      usd_per_minute  plan_name  \n",
       "0               0.01   ultimate  \n",
       "1               0.03       surf  \n",
       "2               0.03       surf  \n",
       "3               0.03       surf  \n",
       "4               0.03       surf  \n",
       "...              ...        ...  \n",
       "2288            0.03       surf  \n",
       "2289            0.03       surf  \n",
       "2290            0.03       surf  \n",
       "2291            0.03       surf  \n",
       "2292            0.03       surf  \n",
       "\n",
       "[2293 rows x 24 columns]"
      ]
     },
     "execution_count": 36,
     "metadata": {},
     "output_type": "execute_result"
    }
   ],
   "source": [
    "total_per_user"
   ]
  },
  {
   "cell_type": "code",
   "execution_count": 37,
   "metadata": {
    "id": "5FGCf_c60q1I"
   },
   "outputs": [],
   "source": [
    "# Calcula el ingreso mensual para cada usuario\n",
    "#Paar calcular el ingreso mensual por usuario voy a crear una función que reciba una fila, la funcion compara el total usado por usuario al mes\n",
    "#en las distintas categorías, con lo que incluye su respectivo plan, si el usuario excede, le agregamos una tarifa extra, la cual está indicada en el DF\n",
    "#Al final aplicamos esta función al DataFrame para crear una columna nueva en la que cada celda representa el total de un usuario del mes que indica la fila.\n",
    "def total_income(row):\n",
    "    total_income = row['usd_monthly_pay']\n",
    "    if row['total_minutes'] > row['minutes_included']:\n",
    "        total_income += row['usd_per_minute'] * (row['total_minutes'] - row['minutes_included'])\n",
    "        \n",
    "    elif row['number_of_messages'] > row['messages_included']:\n",
    "        total_income += row['usd_per_message'] * (row['number_of_messages'] - row['messages_included'])\n",
    "        \n",
    "    elif row['total_megabytes'] > row['mb_per_month_included']:\n",
    "        total_income += row['usd_per_gb'] * np.ceil((row['total_megabytes'] - row['mb_per_month_included']) / 1024)\n",
    "        \n",
    "    return total_income\n",
    "    "
   ]
  },
  {
   "cell_type": "code",
   "execution_count": 38,
   "metadata": {},
   "outputs": [],
   "source": [
    "total_per_user['total_income'] = total_per_user.apply(total_income, axis = 1)"
   ]
  },
  {
   "cell_type": "code",
   "execution_count": 39,
   "metadata": {},
   "outputs": [
    {
     "data": {
      "text/html": [
       "<div>\n",
       "<style scoped>\n",
       "    .dataframe tbody tr th:only-of-type {\n",
       "        vertical-align: middle;\n",
       "    }\n",
       "\n",
       "    .dataframe tbody tr th {\n",
       "        vertical-align: top;\n",
       "    }\n",
       "\n",
       "    .dataframe thead th {\n",
       "        text-align: right;\n",
       "    }\n",
       "</style>\n",
       "<table border=\"1\" class=\"dataframe\">\n",
       "  <thead>\n",
       "    <tr style=\"text-align: right;\">\n",
       "      <th></th>\n",
       "      <th>user_id</th>\n",
       "      <th>month</th>\n",
       "      <th>number_of_calls</th>\n",
       "      <th>total_minutes</th>\n",
       "      <th>number_of_messages</th>\n",
       "      <th>total_megabytes</th>\n",
       "      <th>total_gigabytes</th>\n",
       "      <th>first_name</th>\n",
       "      <th>last_name</th>\n",
       "      <th>age</th>\n",
       "      <th>...</th>\n",
       "      <th>reg_day</th>\n",
       "      <th>messages_included</th>\n",
       "      <th>mb_per_month_included</th>\n",
       "      <th>minutes_included</th>\n",
       "      <th>usd_monthly_pay</th>\n",
       "      <th>usd_per_gb</th>\n",
       "      <th>usd_per_message</th>\n",
       "      <th>usd_per_minute</th>\n",
       "      <th>plan_name</th>\n",
       "      <th>total_income</th>\n",
       "    </tr>\n",
       "  </thead>\n",
       "  <tbody>\n",
       "    <tr>\n",
       "      <th>0</th>\n",
       "      <td>1000</td>\n",
       "      <td>12</td>\n",
       "      <td>16.0</td>\n",
       "      <td>124.0</td>\n",
       "      <td>11.0</td>\n",
       "      <td>1901.47</td>\n",
       "      <td>2.0</td>\n",
       "      <td>Anamaria</td>\n",
       "      <td>Bauer</td>\n",
       "      <td>45</td>\n",
       "      <td>...</td>\n",
       "      <td>24</td>\n",
       "      <td>1000</td>\n",
       "      <td>30720</td>\n",
       "      <td>3000</td>\n",
       "      <td>70</td>\n",
       "      <td>7</td>\n",
       "      <td>0.01</td>\n",
       "      <td>0.01</td>\n",
       "      <td>ultimate</td>\n",
       "      <td>70.00</td>\n",
       "    </tr>\n",
       "    <tr>\n",
       "      <th>1</th>\n",
       "      <td>1001</td>\n",
       "      <td>8</td>\n",
       "      <td>27.0</td>\n",
       "      <td>182.0</td>\n",
       "      <td>30.0</td>\n",
       "      <td>6919.15</td>\n",
       "      <td>7.0</td>\n",
       "      <td>Mickey</td>\n",
       "      <td>Wilkerson</td>\n",
       "      <td>28</td>\n",
       "      <td>...</td>\n",
       "      <td>13</td>\n",
       "      <td>50</td>\n",
       "      <td>15360</td>\n",
       "      <td>500</td>\n",
       "      <td>20</td>\n",
       "      <td>10</td>\n",
       "      <td>0.03</td>\n",
       "      <td>0.03</td>\n",
       "      <td>surf</td>\n",
       "      <td>20.00</td>\n",
       "    </tr>\n",
       "    <tr>\n",
       "      <th>2</th>\n",
       "      <td>1001</td>\n",
       "      <td>9</td>\n",
       "      <td>49.0</td>\n",
       "      <td>315.0</td>\n",
       "      <td>44.0</td>\n",
       "      <td>13314.82</td>\n",
       "      <td>14.0</td>\n",
       "      <td>Mickey</td>\n",
       "      <td>Wilkerson</td>\n",
       "      <td>28</td>\n",
       "      <td>...</td>\n",
       "      <td>13</td>\n",
       "      <td>50</td>\n",
       "      <td>15360</td>\n",
       "      <td>500</td>\n",
       "      <td>20</td>\n",
       "      <td>10</td>\n",
       "      <td>0.03</td>\n",
       "      <td>0.03</td>\n",
       "      <td>surf</td>\n",
       "      <td>20.00</td>\n",
       "    </tr>\n",
       "    <tr>\n",
       "      <th>3</th>\n",
       "      <td>1001</td>\n",
       "      <td>10</td>\n",
       "      <td>65.0</td>\n",
       "      <td>393.0</td>\n",
       "      <td>53.0</td>\n",
       "      <td>22330.49</td>\n",
       "      <td>22.0</td>\n",
       "      <td>Mickey</td>\n",
       "      <td>Wilkerson</td>\n",
       "      <td>28</td>\n",
       "      <td>...</td>\n",
       "      <td>13</td>\n",
       "      <td>50</td>\n",
       "      <td>15360</td>\n",
       "      <td>500</td>\n",
       "      <td>20</td>\n",
       "      <td>10</td>\n",
       "      <td>0.03</td>\n",
       "      <td>0.03</td>\n",
       "      <td>surf</td>\n",
       "      <td>20.09</td>\n",
       "    </tr>\n",
       "    <tr>\n",
       "      <th>4</th>\n",
       "      <td>1001</td>\n",
       "      <td>11</td>\n",
       "      <td>64.0</td>\n",
       "      <td>426.0</td>\n",
       "      <td>36.0</td>\n",
       "      <td>18504.30</td>\n",
       "      <td>19.0</td>\n",
       "      <td>Mickey</td>\n",
       "      <td>Wilkerson</td>\n",
       "      <td>28</td>\n",
       "      <td>...</td>\n",
       "      <td>13</td>\n",
       "      <td>50</td>\n",
       "      <td>15360</td>\n",
       "      <td>500</td>\n",
       "      <td>20</td>\n",
       "      <td>10</td>\n",
       "      <td>0.03</td>\n",
       "      <td>0.03</td>\n",
       "      <td>surf</td>\n",
       "      <td>60.00</td>\n",
       "    </tr>\n",
       "    <tr>\n",
       "      <th>...</th>\n",
       "      <td>...</td>\n",
       "      <td>...</td>\n",
       "      <td>...</td>\n",
       "      <td>...</td>\n",
       "      <td>...</td>\n",
       "      <td>...</td>\n",
       "      <td>...</td>\n",
       "      <td>...</td>\n",
       "      <td>...</td>\n",
       "      <td>...</td>\n",
       "      <td>...</td>\n",
       "      <td>...</td>\n",
       "      <td>...</td>\n",
       "      <td>...</td>\n",
       "      <td>...</td>\n",
       "      <td>...</td>\n",
       "      <td>...</td>\n",
       "      <td>...</td>\n",
       "      <td>...</td>\n",
       "      <td>...</td>\n",
       "      <td>...</td>\n",
       "    </tr>\n",
       "    <tr>\n",
       "      <th>2288</th>\n",
       "      <td>1498</td>\n",
       "      <td>12</td>\n",
       "      <td>39.0</td>\n",
       "      <td>339.0</td>\n",
       "      <td>0.0</td>\n",
       "      <td>23137.69</td>\n",
       "      <td>23.0</td>\n",
       "      <td>Scot</td>\n",
       "      <td>Williamson</td>\n",
       "      <td>51</td>\n",
       "      <td>...</td>\n",
       "      <td>4</td>\n",
       "      <td>50</td>\n",
       "      <td>15360</td>\n",
       "      <td>500</td>\n",
       "      <td>20</td>\n",
       "      <td>10</td>\n",
       "      <td>0.03</td>\n",
       "      <td>0.03</td>\n",
       "      <td>surf</td>\n",
       "      <td>100.00</td>\n",
       "    </tr>\n",
       "    <tr>\n",
       "      <th>2289</th>\n",
       "      <td>1499</td>\n",
       "      <td>9</td>\n",
       "      <td>41.0</td>\n",
       "      <td>346.0</td>\n",
       "      <td>0.0</td>\n",
       "      <td>12984.76</td>\n",
       "      <td>13.0</td>\n",
       "      <td>Shena</td>\n",
       "      <td>Dickson</td>\n",
       "      <td>37</td>\n",
       "      <td>...</td>\n",
       "      <td>6</td>\n",
       "      <td>50</td>\n",
       "      <td>15360</td>\n",
       "      <td>500</td>\n",
       "      <td>20</td>\n",
       "      <td>10</td>\n",
       "      <td>0.03</td>\n",
       "      <td>0.03</td>\n",
       "      <td>surf</td>\n",
       "      <td>20.00</td>\n",
       "    </tr>\n",
       "    <tr>\n",
       "      <th>2290</th>\n",
       "      <td>1499</td>\n",
       "      <td>10</td>\n",
       "      <td>53.0</td>\n",
       "      <td>385.0</td>\n",
       "      <td>0.0</td>\n",
       "      <td>19492.43</td>\n",
       "      <td>20.0</td>\n",
       "      <td>Shena</td>\n",
       "      <td>Dickson</td>\n",
       "      <td>37</td>\n",
       "      <td>...</td>\n",
       "      <td>6</td>\n",
       "      <td>50</td>\n",
       "      <td>15360</td>\n",
       "      <td>500</td>\n",
       "      <td>20</td>\n",
       "      <td>10</td>\n",
       "      <td>0.03</td>\n",
       "      <td>0.03</td>\n",
       "      <td>surf</td>\n",
       "      <td>70.00</td>\n",
       "    </tr>\n",
       "    <tr>\n",
       "      <th>2291</th>\n",
       "      <td>1499</td>\n",
       "      <td>11</td>\n",
       "      <td>45.0</td>\n",
       "      <td>308.0</td>\n",
       "      <td>0.0</td>\n",
       "      <td>16813.83</td>\n",
       "      <td>17.0</td>\n",
       "      <td>Shena</td>\n",
       "      <td>Dickson</td>\n",
       "      <td>37</td>\n",
       "      <td>...</td>\n",
       "      <td>6</td>\n",
       "      <td>50</td>\n",
       "      <td>15360</td>\n",
       "      <td>500</td>\n",
       "      <td>20</td>\n",
       "      <td>10</td>\n",
       "      <td>0.03</td>\n",
       "      <td>0.03</td>\n",
       "      <td>surf</td>\n",
       "      <td>40.00</td>\n",
       "    </tr>\n",
       "    <tr>\n",
       "      <th>2292</th>\n",
       "      <td>1499</td>\n",
       "      <td>12</td>\n",
       "      <td>65.0</td>\n",
       "      <td>496.0</td>\n",
       "      <td>0.0</td>\n",
       "      <td>22059.21</td>\n",
       "      <td>22.0</td>\n",
       "      <td>Shena</td>\n",
       "      <td>Dickson</td>\n",
       "      <td>37</td>\n",
       "      <td>...</td>\n",
       "      <td>6</td>\n",
       "      <td>50</td>\n",
       "      <td>15360</td>\n",
       "      <td>500</td>\n",
       "      <td>20</td>\n",
       "      <td>10</td>\n",
       "      <td>0.03</td>\n",
       "      <td>0.03</td>\n",
       "      <td>surf</td>\n",
       "      <td>90.00</td>\n",
       "    </tr>\n",
       "  </tbody>\n",
       "</table>\n",
       "<p>2293 rows × 25 columns</p>\n",
       "</div>"
      ],
      "text/plain": [
       "      user_id  month  number_of_calls  total_minutes  number_of_messages  \\\n",
       "0        1000     12             16.0          124.0                11.0   \n",
       "1        1001      8             27.0          182.0                30.0   \n",
       "2        1001      9             49.0          315.0                44.0   \n",
       "3        1001     10             65.0          393.0                53.0   \n",
       "4        1001     11             64.0          426.0                36.0   \n",
       "...       ...    ...              ...            ...                 ...   \n",
       "2288     1498     12             39.0          339.0                 0.0   \n",
       "2289     1499      9             41.0          346.0                 0.0   \n",
       "2290     1499     10             53.0          385.0                 0.0   \n",
       "2291     1499     11             45.0          308.0                 0.0   \n",
       "2292     1499     12             65.0          496.0                 0.0   \n",
       "\n",
       "      total_megabytes  total_gigabytes first_name   last_name  age  ...  \\\n",
       "0             1901.47              2.0   Anamaria       Bauer   45  ...   \n",
       "1             6919.15              7.0     Mickey   Wilkerson   28  ...   \n",
       "2            13314.82             14.0     Mickey   Wilkerson   28  ...   \n",
       "3            22330.49             22.0     Mickey   Wilkerson   28  ...   \n",
       "4            18504.30             19.0     Mickey   Wilkerson   28  ...   \n",
       "...               ...              ...        ...         ...  ...  ...   \n",
       "2288         23137.69             23.0       Scot  Williamson   51  ...   \n",
       "2289         12984.76             13.0      Shena     Dickson   37  ...   \n",
       "2290         19492.43             20.0      Shena     Dickson   37  ...   \n",
       "2291         16813.83             17.0      Shena     Dickson   37  ...   \n",
       "2292         22059.21             22.0      Shena     Dickson   37  ...   \n",
       "\n",
       "     reg_day messages_included mb_per_month_included minutes_included  \\\n",
       "0         24              1000                 30720             3000   \n",
       "1         13                50                 15360              500   \n",
       "2         13                50                 15360              500   \n",
       "3         13                50                 15360              500   \n",
       "4         13                50                 15360              500   \n",
       "...      ...               ...                   ...              ...   \n",
       "2288       4                50                 15360              500   \n",
       "2289       6                50                 15360              500   \n",
       "2290       6                50                 15360              500   \n",
       "2291       6                50                 15360              500   \n",
       "2292       6                50                 15360              500   \n",
       "\n",
       "      usd_monthly_pay  usd_per_gb  usd_per_message  usd_per_minute  plan_name  \\\n",
       "0                  70           7             0.01            0.01   ultimate   \n",
       "1                  20          10             0.03            0.03       surf   \n",
       "2                  20          10             0.03            0.03       surf   \n",
       "3                  20          10             0.03            0.03       surf   \n",
       "4                  20          10             0.03            0.03       surf   \n",
       "...               ...         ...              ...             ...        ...   \n",
       "2288               20          10             0.03            0.03       surf   \n",
       "2289               20          10             0.03            0.03       surf   \n",
       "2290               20          10             0.03            0.03       surf   \n",
       "2291               20          10             0.03            0.03       surf   \n",
       "2292               20          10             0.03            0.03       surf   \n",
       "\n",
       "      total_income  \n",
       "0            70.00  \n",
       "1            20.00  \n",
       "2            20.00  \n",
       "3            20.09  \n",
       "4            60.00  \n",
       "...            ...  \n",
       "2288        100.00  \n",
       "2289         20.00  \n",
       "2290         70.00  \n",
       "2291         40.00  \n",
       "2292         90.00  \n",
       "\n",
       "[2293 rows x 25 columns]"
      ]
     },
     "execution_count": 39,
     "metadata": {},
     "output_type": "execute_result"
    }
   ],
   "source": [
    "#A continuación verificamos el total por mes de cada usuario.\n",
    "total_per_user"
   ]
  },
  {
   "cell_type": "markdown",
   "metadata": {
    "id": "-jtyHzJb0q1I"
   },
   "source": [
    "## Estudia el comportamiento de usuario"
   ]
  },
  {
   "cell_type": "markdown",
   "metadata": {
    "id": "vtW4CJEe0q1J"
   },
   "source": [
    "### Llamadas"
   ]
  },
  {
   "cell_type": "code",
   "execution_count": 70,
   "metadata": {
    "id": "Jf5v5--k0q1J"
   },
   "outputs": [
    {
     "data": {
      "image/png": "[encoded data removed]",
      "text/plain": [
       "<Figure size 640x480 with 1 Axes>"
      ]
     },
     "metadata": {},
     "output_type": "display_data"
    }
   ],
   "source": [
    "# Compara la duración promedio de llamadas por cada plan y por cada mes. Traza un gráfico de barras para visualizarla.\n",
    "surf_users = total_per_user.query('plan_name == \"surf\"')\n",
    "surf_minutes_mean = surf_users.groupby('month')['total_minutes'].mean()\n",
    "\n",
    "ultimate_users = total_per_user.query('plan_name == \"ultimate\"')\n",
    "ultimate_minutes_mean = ultimate_users.groupby('month')['total_minutes'].mean()\n",
    "months = np.arange(1, 13)\n",
    "width = 0.4  \n",
    "\n",
    "\n",
    "surf_values = surf_minutes_mean.reindex(months, fill_value=0)\n",
    "ultimate_values = ultimate_minutes_mean.reindex(months, fill_value=0)\n",
    "\n",
    "\n",
    "\n",
    "plt.bar(months - width/2, surf_values, width=width, label='Surf', color='skyblue')\n",
    "plt.bar(months + width/2, ultimate_values, width=width, label='Ultimate', color='salmon')\n",
    "\n",
    "\n",
    "plt.title('Usuarios Surf vs. Ultimate, duración promedio de llamada(por mes)')\n",
    "plt.xlabel('Mes del año (ENE-DIC)')\n",
    "plt.ylabel('Duración promedio de llamada (en minutos)')\n",
    "plt.xticks(months)  \n",
    "plt.legend()\n",
    "plt.grid(axis='y', linestyle='--', alpha=0.7)\n",
    "plt.show()\n"
   ]
  },
  {
   "cell_type": "code",
   "execution_count": 69,
   "metadata": {
    "id": "QoLqW1S_0q1J"
   },
   "outputs": [
    {
     "data": {
      "text/plain": [
       "<function matplotlib.pyplot.show(close=None, block=None)>"
      ]
     },
     "execution_count": 69,
     "metadata": {},
     "output_type": "execute_result"
    },
    {
     "data": {
      "image/png": "[encoded data removed]",
      "text/plain": [
       "<Figure size 640x480 with 1 Axes>"
      ]
     },
     "metadata": {},
     "output_type": "display_data"
    }
   ],
   "source": [
    "# Compara el número de minutos mensuales que necesitan los usuarios de cada plan. Traza un histograma.\n",
    "surf_minutes = surf_users['total_minutes']\n",
    "ultimate_minutes = ultimate_users['total_minutes']\n",
    "\n",
    "surf_minutes.plot(kind = 'hist', \n",
    "                  bins=50, \n",
    "                  alpha=0.6)\n",
    "ultimate_minutes.plot(kind = 'hist', \n",
    "                      title = 'Duracion de la llamada de usuarios Surf y Ultimate', \n",
    "                      bins = 50, \n",
    "                      alpha = 0.6, \n",
    "                      xlabel = 'Minutos totales', \n",
    "                      ylabel = 'Número de usuarios')\n",
    "plt.legend(['Usuarios Surf', 'Usuarios Ultimate'])\n",
    "plt.show"
   ]
  },
  {
   "cell_type": "code",
   "execution_count": 42,
   "metadata": {
    "id": "oSndbAnt0q1K"
   },
   "outputs": [
    {
     "name": "stdout",
     "output_type": "stream",
     "text": [
      "Media, Varianza y desviación estandar de la duración total de las llamadas de los usuarios Surf:\n",
      "\n",
      "Media: 428.7495232040687\n",
      "Varianza: 54933.33459131743\n",
      "Desviación estandar: 234.37861376695065\n",
      "\n",
      "\n",
      "Media, Varianza y desviación estandar de la duración total de las llamadas de los usuarios Ultimate:\n",
      "\n",
      "Media: 430.45\n",
      "Varianza: 57764.12527777776\n",
      "Desviación estandar: 240.34168443650753\n"
     ]
    }
   ],
   "source": [
    "# Vamos a calcular la media y la varianza de la duración mensual de llamadas.\n",
    "surf_users_mean_call = surf_users['total_minutes'].mean()\n",
    "ultimate_users_mean_call = ultimate_users['total_minutes'].mean()\n",
    "\n",
    "total_min_var_surf = np.var(surf_users['total_minutes'])\n",
    "total_min_std_surf = np.sqrt(total_min_var_surf)\n",
    "\n",
    "total_min_var_ultimate = np.var(ultimate_users['total_minutes'])\n",
    "total_min_std_ultimate = np.sqrt(total_min_var_ultimate)\n",
    "\n",
    "print('Media, Varianza y desviación estandar de la duración total de las llamadas de los usuarios Surf:')\n",
    "print()\n",
    "print('Media:', surf_users_mean_call)\n",
    "print('Varianza:', total_min_var_surf)\n",
    "print('Desviación estandar:', total_min_std_surf)\n",
    "print()\n",
    "print()\n",
    "print('Media, Varianza y desviación estandar de la duración total de las llamadas de los usuarios Ultimate:')\n",
    "print()\n",
    "print('Media:', ultimate_users_mean_call)\n",
    "print('Varianza:', total_min_var_ultimate)\n",
    "print('Desviación estandar:', total_min_std_ultimate)"
   ]
  },
  {
   "cell_type": "code",
   "execution_count": 43,
   "metadata": {
    "id": "nZzoRUKc0q1K"
   },
   "outputs": [
    {
     "data": {
      "text/plain": [
       "<Axes: xlabel='total_minutes'>"
      ]
     },
     "execution_count": 43,
     "metadata": {},
     "output_type": "execute_result"
    },
    {
     "data": {
      "image/png": "[encoded data removed]",
      "text/plain": [
       "<Figure size 640x480 with 1 Axes>"
      ]
     },
     "metadata": {},
     "output_type": "display_data"
    }
   ],
   "source": [
    "# Voy a trazar un diagrama de caja para visualizar la distribución de la duración mensual de llamadas\n",
    "import seaborn as sns\n",
    "sns.boxplot(total_per_user['total_minutes'], orient = 'h')"
   ]
  },
  {
   "cell_type": "markdown",
   "metadata": {
    "id": "r627zBO50q1K"
   },
   "source": [
    "En las celdas anteriores podemos visualizar algunas metricas y un diagrama de caja y bigotes para estudiar el comportamiento de los usuarios con repecto a la duración de llamadas. Partiendo de eso, la duración promedio de llamada para los usuarios del plan Surf es de 428.749, por otro lado para el plan Ultimate es de 430.45, es interesante porque esto nos deja ver que los usuarios Surf y Ultimate, hablan relativamente casi lo mismo. También podemos ver que tanto como la varianza y desviación estandar de los dos planes es bastante similar, en ambos casos, la varianza y desviación estandar es poco significativamente mayor para el plan Ultimate. Tanto la varianza como la desviación estandar en ambos casos, es decir para el plan Surf y Ultimate, son muy grandes. Si utilizaramos el coeficiente de variación, nos daría muy probablemente más de .50, esto implica que los datos están bastante dispersos. \n",
    "\n",
    "Después observamos el diagrama de caja y bigotes, mediante el cual podemos ver la distribución de los datos de la duración promedio de las llamadas para los usuarios de ambos planes, la mediana se encuntra un poco después de los 400 minutos, y se observan varios valores atípicos, es decir valores que están a más de 1.5 veces del rango intercuartílico. \n",
    "\n",
    "Respondiendo la pregunta \"¿El comportamiento de los usuarios con respecto a la duración de las llamadas varia dependiendo del plan?\", me atrevería a decir que no, el comportamiento de los usuarios es relativamente similar, lo podemos ver en el histograma antes presentado, la forma de la distribución es bastante parecida, solo que hay más usuarios del plan Surf que del plan Ultimate. Algo que noté y que me parece importante destacar es que más de 500 usuarios del plan Surf exceden el limite de sus minutos y terminan pagando tarifas extra. Podriamos profundizar en el estudio del comportamiento de estos usuarios en específico y darnos cuenta de cuanto pagan al mes aproximadamente, a traves de esto podriamos implementar alguna estrategía de marketing para estos clientes que pagan más debido al exceso en los limites."
   ]
  },
  {
   "cell_type": "markdown",
   "metadata": {
    "id": "8idKy8Wh0q1L"
   },
   "source": [
    "### Mensajes"
   ]
  },
  {
   "cell_type": "code",
   "execution_count": 66,
   "metadata": {
    "id": "NXLxiTit0q1L"
   },
   "outputs": [
    {
     "data": {
      "text/plain": [
       "<function matplotlib.pyplot.show(close=None, block=None)>"
      ]
     },
     "execution_count": 66,
     "metadata": {},
     "output_type": "execute_result"
    },
    {
     "data": {
      "image/png": "[encoded data removed]",
      "text/plain": [
       "<Figure size 640x480 with 1 Axes>"
      ]
     },
     "metadata": {},
     "output_type": "display_data"
    }
   ],
   "source": [
    "# Voy a comparar el número de mensajes que tienden a enviar cada mes los usuarios de cada plan\n",
    "surf_messages = surf_users['number_of_messages']\n",
    "ultimate_messages = ultimate_users['number_of_messages']\n",
    "\n",
    "surf_messages.plot(kind = 'hist', \n",
    "                  bins=50, \n",
    "                  alpha=0.6)\n",
    "ultimate_messages.plot(kind = 'hist', \n",
    "                      title = 'Usuarios Surf vs. Ultimate, mensajes enviados.', \n",
    "                      bins = 50, \n",
    "                      alpha = 0.6, \n",
    "                      xlabel = 'Mensajes totales')\n",
    "plt.legend(['Usuarios Surf', 'Usuarios Ultimate'])\n",
    "plt.show"
   ]
  },
  {
   "cell_type": "code",
   "execution_count": 65,
   "metadata": {
    "id": "GRI_R7xF0q1L"
   },
   "outputs": [
    {
     "data": {
      "text/plain": [
       "<function matplotlib.pyplot.show(close=None, block=None)>"
      ]
     },
     "execution_count": 65,
     "metadata": {},
     "output_type": "execute_result"
    },
    {
     "data": {
      "image/png": "[encoded data removed]",
      "text/plain": [
       "<Figure size 640x480 with 1 Axes>"
      ]
     },
     "metadata": {},
     "output_type": "display_data"
    }
   ],
   "source": [
    "# Comparamos la cantidad de tráfico de Internet consumido por usuarios por plan\n",
    "surf_internet = surf_users['total_megabytes']\n",
    "ultimate_internet = ultimate_users['total_megabytes']\n",
    "\n",
    "surf_internet.plot(kind = 'hist', \n",
    "                  bins=50, \n",
    "                  alpha=0.6)\n",
    "ultimate_internet.plot(kind = 'hist', \n",
    "                      title = 'Usuarios Surf vs. Ultimate, uso de internet.', \n",
    "                      bins = 50, \n",
    "                      alpha = 0.6, \n",
    "                      xlabel = 'Total de megabytes usados')\n",
    "plt.legend(['Usuarios Surf', 'Usuarios Ultimate'])\n",
    "plt.show"
   ]
  },
  {
   "cell_type": "code",
   "execution_count": 46,
   "metadata": {
    "id": "dtFwCGAp0q1M"
   },
   "outputs": [
    {
     "name": "stdout",
     "output_type": "stream",
     "text": [
      "Media, Varianza y desviación estandar de el total de mensajes enviados de los usuarios Surf:\n",
      "\n",
      "Media: 31.15956770502225\n",
      "Varianza: 1126.0082317266638\n",
      "Desviación estandar: 33.556046127734774\n",
      "\n",
      "\n",
      "Media, Varianza y desviación estandar de el total de mensajes enviados de los usuarios Ultimate:\n",
      "\n",
      "Media: 37.55138888888889\n",
      "Varianza: 1207.0779147376504\n",
      "Desviación estandar: 34.74302685054442\n"
     ]
    }
   ],
   "source": [
    "surf_users_mean_messages = surf_users['number_of_messages'].mean()\n",
    "ultimate_users_mean_messages = ultimate_users['number_of_messages'].mean()\n",
    "\n",
    "total_messages_var_surf = np.var(surf_users['number_of_messages'])\n",
    "total_messages_std_surf = np.sqrt(total_messages_var_surf)\n",
    "\n",
    "total_messages_var_ultimate = np.var(ultimate_users['number_of_messages'])\n",
    "total_messages_std_ultimate = np.sqrt(total_messages_var_ultimate)\n",
    "\n",
    "print('Media, Varianza y desviación estandar de el total de mensajes enviados de los usuarios Surf:')\n",
    "print()\n",
    "print('Media:', surf_users_mean_messages)\n",
    "print('Varianza:', total_messages_var_surf)\n",
    "print('Desviación estandar:', total_messages_std_surf)\n",
    "print()\n",
    "print()\n",
    "print('Media, Varianza y desviación estandar de el total de mensajes enviados de los usuarios Ultimate:')\n",
    "print()\n",
    "print('Media:', ultimate_users_mean_messages)\n",
    "print('Varianza:', total_messages_var_ultimate)\n",
    "print('Desviación estandar:', total_messages_std_ultimate)"
   ]
  },
  {
   "cell_type": "markdown",
   "metadata": {
    "id": "390SSL480q1M"
   },
   "source": [
    "Para los dos planes podemos ver estadísticas relativamente similares, los usuarios del plan Surf envian en promedio 31.159 mensajes al mes, mientras que los usuarios de ultimate envian 33.551 mensajes al mes en promedio. La desviación estandar y varianza son poco significativamente mayores para el plan Ultimate. Analizando la desviación estandar podemos ver que para los mesnajes los datos también estan bastante dispersos, en relación a la media, algo que me llamo la atención son los valores atípicos, para los mensajes, hay usuarios de Surf que llegaron a enviar más de 250 mensajes en un mes, cuando el plan Surf incluye 50 sms como máximo.\n",
    "\n",
    "Para los mensajes, el comportamiento de los usuarios no varia dependiendo del plan, es bastante similar."
   ]
  },
  {
   "cell_type": "markdown",
   "metadata": {
    "id": "42YSypXz0q1M"
   },
   "source": [
    "### Internet"
   ]
  },
  {
   "cell_type": "code",
   "execution_count": 64,
   "metadata": {
    "id": "lSuKPtjh0q1M"
   },
   "outputs": [
    {
     "data": {
      "text/plain": [
       "<function matplotlib.pyplot.show(close=None, block=None)>"
      ]
     },
     "execution_count": 64,
     "metadata": {},
     "output_type": "execute_result"
    },
    {
     "data": {
      "image/png": "[encoded data removed]",
      "text/plain": [
       "<Figure size 640x480 with 1 Axes>"
      ]
     },
     "metadata": {},
     "output_type": "display_data"
    }
   ],
   "source": [
    "surf_internet = surf_users['total_megabytes']\n",
    "ultimate_internet = ultimate_users['total_megabytes']\n",
    "\n",
    "surf_internet.plot(kind = 'hist', \n",
    "                  bins=50, \n",
    "                  alpha=0.6)\n",
    "ultimate_internet.plot(kind = 'hist', \n",
    "                      title = 'Usuarios Surf vs. Ultimate, uso de internet.', \n",
    "                      bins = 50, \n",
    "                      alpha = 0.6, \n",
    "                      xlabel = 'Total de megabytes usados')\n",
    "plt.legend(['Usuarios Surf', 'Usuarios Ultimate'])\n",
    "plt.show"
   ]
  },
  {
   "cell_type": "code",
   "execution_count": 48,
   "metadata": {
    "id": "wnh8jYXi0q1N"
   },
   "outputs": [
    {
     "name": "stdout",
     "output_type": "stream",
     "text": [
      "Media, Varianza y desviación estandar de el uso total de megabytes de los usuarios Surf:\n",
      "\n",
      "Media: 16558.283490146216\n",
      "Varianza: 64175571.6830134\n",
      "Desviación estandar: 8010.96571475708\n",
      "\n",
      "\n",
      "Media, Varianza y desviación estandar de el uso total de megabytes de los usuarios Ultimate:\n",
      "\n",
      "Media: 17214.699694444444\n",
      "Varianza: 61566665.13868625\n",
      "Desviación estandar: 7846.442833455569\n"
     ]
    }
   ],
   "source": [
    "surf_users_mean_mb = surf_users['total_megabytes'].mean()\n",
    "ultimate_users_mean_mb = ultimate_users['total_megabytes'].mean()\n",
    "\n",
    "total_mb_var_surf = np.var(surf_users['total_megabytes'])\n",
    "total_mb_std_surf = np.sqrt(total_mb_var_surf)\n",
    "\n",
    "total_mb_var_ultimate = np.var(ultimate_users['total_megabytes'])\n",
    "total_mb_std_ultimate = np.sqrt(total_mb_var_ultimate)\n",
    "\n",
    "print('Media, Varianza y desviación estandar de el uso total de megabytes de los usuarios Surf:')\n",
    "print()\n",
    "print('Media:', surf_users_mean_mb)\n",
    "print('Varianza:', total_mb_var_surf)\n",
    "print('Desviación estandar:', total_mb_std_surf)\n",
    "print()\n",
    "print()\n",
    "print('Media, Varianza y desviación estandar de el uso total de megabytes de los usuarios Ultimate:')\n",
    "print()\n",
    "print('Media:', ultimate_users_mean_mb)\n",
    "print('Varianza:', total_mb_var_ultimate)\n",
    "print('Desviación estandar:', total_mb_std_ultimate)"
   ]
  },
  {
   "cell_type": "code",
   "execution_count": 49,
   "metadata": {
    "id": "5VlyJ9ry0q1N"
   },
   "outputs": [
    {
     "data": {
      "text/plain": [
       "<Axes: xlabel='total_megabytes'>"
      ]
     },
     "execution_count": 49,
     "metadata": {},
     "output_type": "execute_result"
    },
    {
     "data": {
      "image/png": "[encoded data removed]",
      "text/plain": [
       "<Figure size 640x480 with 1 Axes>"
      ]
     },
     "metadata": {},
     "output_type": "display_data"
    }
   ],
   "source": [
    "sns.boxplot(total_per_user['total_megabytes'], orient = 'h')"
   ]
  },
  {
   "cell_type": "markdown",
   "metadata": {
    "id": "UN9zwuMP0q1N"
   },
   "source": [
    "Para el uso de internet, el comportamiento de los usuarios varia ligeramente, para los usuarios del plan Surf, utilizan en promedio 16558 megabytes al mes, los usuarios del plan Ultimate, utilizan en pormedio 17214 megabytes al mes, es una diferencia de menos de un gigabyte. Antes de continuar, me gustaría aclarar que para las llamadas, mensajes e internet, el comportamiento si tiene cierta variación, no la considero tan significativa debido a la gran brecha que hay entre los precios y beneficios de ambos planes, el plan ultimate y el plan surf difieren en todo, y la variación que existe entre el comportamiento de los usuarios es muy pequeña, los usuarios del plan Ultimate tienen beneficios mucho mayores que los del plan Surf, sin embargo, no se acercan al limite(hablando específicamente de los usuarios del plan Ultimate)."
   ]
  },
  {
   "cell_type": "markdown",
   "metadata": {
    "id": "tCijq3260q1N"
   },
   "source": [
    "## Ingreso"
   ]
  },
  {
   "cell_type": "markdown",
   "metadata": {
    "id": "9nq5IAcy0q1O"
   },
   "source": [
    "[Del mismo modo que has estudiado el comportamiento de los usuarios, describe estadísticamente los ingresos de los planes.]"
   ]
  },
  {
   "cell_type": "code",
   "execution_count": 62,
   "metadata": {
    "id": "tz-dq_V00q1O"
   },
   "outputs": [
    {
     "data": {
      "text/plain": [
       "<function matplotlib.pyplot.show(close=None, block=None)>"
      ]
     },
     "execution_count": 62,
     "metadata": {},
     "output_type": "execute_result"
    },
    {
     "data": {
      "image/png": "[encoded data removed]",
      "text/plain": [
       "<Figure size 640x480 with 1 Axes>"
      ]
     },
     "metadata": {},
     "output_type": "display_data"
    }
   ],
   "source": [
    "surf_income = surf_users['total_income']\n",
    "ultimate_income = ultimate_users['total_income']\n",
    "\n",
    "surf_income.plot(kind = 'hist', \n",
    "                  bins=50, \n",
    "                  alpha=0.6)\n",
    "ultimate_income.plot(kind = 'hist', \n",
    "                      title = 'Usuarios Surf vs. Ultimate, total de ingresos por cliente.', \n",
    "                      bins = 50, \n",
    "                      alpha = 0.6, \n",
    "                      xlabel = 'Total de ingresos generados', \n",
    "                      ylabel = 'Numero de clientes')\n",
    "plt.legend(['Usuarios Surf', 'Usuarios Ultimate'])\n",
    "plt.show"
   ]
  },
  {
   "cell_type": "code",
   "execution_count": 61,
   "metadata": {
    "id": "0Y1v8ZUz0q1P"
   },
   "outputs": [
    {
     "name": "stdout",
     "output_type": "stream",
     "text": [
      "plan_name\n",
      "surf        59200.5\n",
      "ultimate    52066.0\n",
      "Name: total_income, dtype: float64\n"
     ]
    },
    {
     "data": {
      "image/png": "[encoded data removed]",
      "text/plain": [
       "<Figure size 640x480 with 1 Axes>"
      ]
     },
     "metadata": {},
     "output_type": "display_data"
    }
   ],
   "source": [
    "total_income_plans = total_per_user.groupby('plan_name')['total_income'].sum()\n",
    "total_income_plans.plot(kind = 'bar', \n",
    "                        title = 'Total de ingresos por plan.', \n",
    "                        xlabel = 'Nombre del plan', \n",
    "                        ylabel = 'Ingresos(USD $)', \n",
    "                        rot = 0)\n",
    "plt.grid(linestyle = '--')\n",
    "plt.show\n",
    "print(total_income_plans)"
   ]
  },
  {
   "cell_type": "code",
   "execution_count": 52,
   "metadata": {
    "id": "bYmwxyVh0q1P"
   },
   "outputs": [
    {
     "name": "stdout",
     "output_type": "stream",
     "text": [
      "Media, Varianza y desviación estandar de el ingreso total generado por los usuarios del plan Surf:\n",
      "\n",
      "Media: 37.63541004450095\n",
      "Varianza: 1317.6297685063628\n",
      "Desviación estandar: 36.29917035562057\n",
      "\n",
      "\n",
      "Media, Varianza y desviación estandar de el ingreso total generado por los usuarios del plan Ultimate:\n",
      "\n",
      "Media: 72.31388888888888\n",
      "Varianza: 129.66814043209837\n",
      "Desviación estandar: 11.387191946748697\n"
     ]
    }
   ],
   "source": [
    "surf_users_mean_usd = surf_users['total_income'].mean()\n",
    "ultimate_users_mean_usd = ultimate_users['total_income'].mean()\n",
    "\n",
    "total_usd_var_surf = np.var(surf_users['total_income'])\n",
    "total_usd_std_surf = np.sqrt(total_usd_var_surf)\n",
    "\n",
    "total_usd_var_ultimate = np.var(ultimate_users['total_income'])\n",
    "total_usd_std_ultimate = np.sqrt(total_usd_var_ultimate)\n",
    "\n",
    "print('Media, Varianza y desviación estandar de el ingreso total generado por los usuarios del plan Surf:')\n",
    "print()\n",
    "print('Media:', surf_users_mean_usd)\n",
    "print('Varianza:', total_usd_var_surf)\n",
    "print('Desviación estandar:', total_usd_std_surf)\n",
    "print()\n",
    "print()\n",
    "print('Media, Varianza y desviación estandar de el ingreso total generado por los usuarios del plan Ultimate:')\n",
    "print()\n",
    "print('Media:', ultimate_users_mean_usd)\n",
    "print('Varianza:', total_usd_var_ultimate)\n",
    "print('Desviación estandar:', total_usd_std_ultimate)"
   ]
  },
  {
   "cell_type": "markdown",
   "metadata": {
    "id": "KAFidcXZ0q1P"
   },
   "source": [
    "En las celdas anteriores podemos observar ciertas estadísticas y visualizaciones con respecto a los ingresos generados, dividido en plan Surf y plan Ultimate, el histograma muestra claramente 2 picos, eso representa la cantidad que la mayor cantidad de usuarios paga, para el plan Surf son 20 dolares al mes mientras que para el plan Ultimate son 70 dolares mensuales, los valores que están fuera de esos intervalos representan excedentes, respectivamente para ambos planes, algo que es muy interesante, es que en todas las categorías analizadas(llamadas, mensajes e internet) hay una gran cantidad de clientes del plan Surf que exceden sus beneficios y en concecuencia se ven obligados a pagar tarifas extra, existen clientes que exceden para el plan Ultimate, sin embargo no son tan numerosos como para el plan Surf.\n",
    "\n",
    "En el gráfico de barras se puede observar claramente que el plan Surf generó más ingresos totales, al rededor de 59,000 dolares específicamente, mientras que el plan Ultimate generó al rededor de 52,000 dolares. Esto implica una diferencia de más de 7 mil dolares entre ambos planes de los ingresos que generaron en el 2018, hablando exclusivamente de la muestra de 500 clientes que analizamos. \n",
    "\n",
    "En la ultima celda tenemos las estadísticas generales de los ingresos de ambos planes, por un lado tenemos que los usuarios del plan Surf pagan en promedio 37.635 dolares cada mes, mientras que los usuarios del plan Ultimate pagan aproximadamente 72 dolares, la tarifa inicial para ambos planes es de 20 y 70 dolares respectivamente. Aquí podemos ver claramente como algunos de los usuarios del plan Surf exceden sus beneficios significativamente por lo cual terminan pagando más y después estos usuarios inflan la media de pago. En cambio la media de pago de los usuarios Ultimate es 72, apenas por encima de la tarifa inicial."
   ]
  },
  {
   "cell_type": "markdown",
   "metadata": {
    "id": "ajJ7VKeI0q1Q"
   },
   "source": [
    "## Prueba las hipótesis estadísticas"
   ]
  },
  {
   "cell_type": "code",
   "execution_count": 53,
   "metadata": {
    "id": "nFoPNlPq0q1R"
   },
   "outputs": [
    {
     "name": "stdout",
     "output_type": "stream",
     "text": [
      "valor p:  7.550199974233704e-206\n",
      "Rechazamos la hipótesis nula\n"
     ]
    }
   ],
   "source": [
    "# Prueba de hipótesis\n",
    "# Hipótesis nula: Los ingresos promedio procedentes de los usuarios del plan Surf son iguales a los ingresos promedio provenientes \n",
    "# de los usuarios del plan Ultimate.\n",
    "\n",
    "# Hipótesis alternativa: Los ingresos promedio provenientes de los usuarios de ambos planes(Surf y Ultimate) son distintos.\n",
    "\n",
    "# Para probar esta hipótesis vamos a usar un valor alpha de 0.01 ya mientras menor sea el valor p, más confianza tendremos en que existe una\n",
    "# diferencia estadisticamente significativa entre los grupos(Surf y Ultimate).\n",
    "\n",
    "# Para elaborar esta prueba estadística escogí la función ttest_ind, es una prueba de hipótesis bilateral donde nuestra hipótesis nula es:\n",
    "# \"las medias de dos poblaciones estadísticas son iguales entre sí\" elegí esta prueba porque queremos ver si es diferente la media, no importando en\n",
    "# que dirección.\n",
    "\n",
    "surf_users_mean_income = surf_users['total_income']\n",
    "ultimate_users_mean_income = ultimate_users['total_income']\n",
    "alpha = 0.01\n",
    "results = st.ttest_ind(surf_users_mean_income, ultimate_users_mean_income, equal_var = False) \n",
    "\n",
    "print('valor p: ', results.pvalue)\n",
    "\n",
    "if results.pvalue < alpha: \n",
    "    print(\"Rechazamos la hipótesis nula\")\n",
    "else:\n",
    "    print(\"No podemos rechazar la hipótesis nula\")"
   ]
  },
  {
   "cell_type": "markdown",
   "metadata": {},
   "source": [
    "En la celda anterior realizamos una prueba de hipótesis en la que queríamos averiguar si existía alguna diferencia entre el promedio de ingresos generados por los usuarios del plan Surf o del plan Ultimate, para esto, realizamos una prueba de hipótesis bilateral para comprobar si las medias de ambas poblaciones son iguales. \n",
    "\n",
    "Dado que nuestro valor p es mucho menor que nuestro valor alpha (0.01) hay evidencia significativa de que las medias de estas dos distribuciones son diferentes. De hecho, hay una altísima evidencia en contra de la hipótesis nula, nuevamente recalco, dado el valor p, tan pequeño, definitivamente rechazo la hipótesis nula. Por tanto hay una gran probabilidad de que nuestra hipótesis alternativa sea verdad."
   ]
  },
  {
   "cell_type": "code",
   "execution_count": 54,
   "metadata": {
    "id": "Cqcj7wrZ0q1S"
   },
   "outputs": [
    {
     "name": "stdout",
     "output_type": "stream",
     "text": [
      "valor p:  0.010359849451501287\n",
      "No podemos rechazar la hipótesis nula\n"
     ]
    }
   ],
   "source": [
    "# Prueba de hipótesis\n",
    "#Primero debemos filtrar los datos para encontrar a los usuarios del area NY-NJ y a los usuarios de cualquier otra región.\n",
    "ny_nj_users = total_per_user[total_per_user['city'].str.contains('NY-NJ', na=False)]\n",
    "#Realizamos el mismo filtrado que arriba, solo que en este caso colocamos el simbolo ~ para hacer lo contrario.\n",
    "no_ny_nj_users = total_per_user[~total_per_user['city'].str.contains('NY-NJ', na=False)]\n",
    "ny_nj_income = ny_nj_users['total_income']\n",
    "no_ny_nj_income = no_ny_nj_users['total_income']\n",
    "\n",
    "alpha = 0.01\n",
    "\n",
    "results_ny = st.ttest_ind(ny_nj_income, no_ny_nj_income, equal_var = False) \n",
    "\n",
    "print('valor p: ', results_ny.pvalue)\n",
    "\n",
    "if results_ny.pvalue < alpha: \n",
    "    print(\"Rechazamos la hipótesis nula\")\n",
    "else:\n",
    "    print(\"No podemos rechazar la hipótesis nula\")"
   ]
  },
  {
   "cell_type": "markdown",
   "metadata": {},
   "source": [
    "En la celda anterior realizamos otra prueba de hipótesis en la que queríamos averiguar si existía alguna diferencia entre el promedio de ingresos generados por los usuarios provenientes de la zona de NY-NJ o el promedio de ingresos generado por los usuarios de cualquier otra región(excluyendo NY-NJ), para esto, realizamos una prueba de hipótesis bilateral para comprobar si las medias de ambas poblaciones son iguales.\n",
    "\n",
    "Nuestra hipótesis nula es: El promedio de ingresos de los usuarios de NY-NJ es igual que el de los usuarios de otras regiones.\n",
    "Nuestra hipótesis alternativa es: El promedio de ingresos de los usuarios de NY-NJ es diferente que el de los usuarios provenientes de otras regiones.\n",
    "\n",
    "Dado que nuestro valor p es mucho mayor que nuestro valor alpha (0.01) no hay evidencia significativa de que las medias de estas dos distribuciones son diferentes. No existe suficiente evidencia estadística para poder afirmar que el promedio de ingresos de los usuarios de NY-NJ es diferente que el de los usuarios de otras regiones. Por tanto, no rechazamos la hipótesis nula."
   ]
  },
  {
   "cell_type": "markdown",
   "metadata": {
    "id": "bbTR8UQO0q1T"
   },
   "source": [
    "## Conclusión general\n",
    "\n",
    "Vamos a hacer un resumen de las cosas que tratamos en este proyecto, primero realizamos una previsualización de los conjuntos de datos con los que trabajaríamos, busque errores, valores ausentes, duplicados, tipos de datos erroneos, etc. En general, me encargué de garantizar la calidad de los datos para realizar un análisis lo mejor posible. Después trabajamos en la creación de un nuevo DataFrame a partir de la ingeniería de características, recopilamos información estadística acerca del comportamiento de los clientes mediante el uso de tablas pivot, por último creamos una función que nos ayudo a determinar el total que pago cada usuario en un mes, incluyendo los excedentes de las tarifas, posteriormente unimos las tablas pivot usando el método merge y aplicamos la función a nuestro DataFrame, a traves de esto conseguimos crear un DataFrame cuyo contenido era más que suficiente para realizar nuestro análisis. \n",
    "\n",
    "Una vez los datos estuvieran procesados, podíamos comenzar a analizar, recordemos el objetivo principal de este análisis, determinar cuál de los dos planes que ofrece Megaline, Surf o Ultimate, generá más ingresos y es más rentable para la empresa, como resumen, el plan surf es el plan básico de la empresa de telecomunicaciones Megaline, mientras que el plan Ultimate maximiza los beneficios y es una versión premium, también más cara. A partir de esto, después de estudiar el comportamiento del usuario en la duración promedio de las llamadas, el promedio de mensajes enviados, y la cantidad de megabytes utilizados, todo esto mensualmente, pudimos obtener los siguientes insights: \n",
    "* En cuanto a la duración de las llamadas, la distribución de los datos es muy similar, los datos están lijeramente sesgados hacia la derecha, para ambos planes, en general el promedio de duración de la llamada es aproximadamente 2 minutos más para el plan Ultimate, vemos que la varianza y desviación estandar para los dos planes es bastante grande lo que nos indica que los datos están muy dispersos, el promedio es tan grande debido a ciertos valores atípicos que lo \"inflan\" por decirlo de alguna manera.\n",
    "* Para los mensajes el comportamiento es similar, la diferencia en la media de mensajes es superior por parte del plan Ultimate, la distribución de los datos está sesgada hacia la derecha, y tiene de igual manera una gran desviación estandar, lo que indica una dispersión por parte de los datos.\n",
    "* Para el uso de megabytes, la media es igualmente un poco mayor por parte de los usuarios del plan Ultimate, los datos están sesgados hacia la derecha. Igualmente los datos están muy dispersos.\n",
    "* En el caso de los ingresos, el promedio de pago mensual es mayor para los usuarios del plan Ultimate, pero algo importantisimo, es que los usuarios del plan ultimate apenas rebasan su tarifa estandar, la cual es de 70 dolares, por otra parte, el promedio de los usuarios Surf es de aproximadamente 37 dolares, lo cual supera enormemente su tarifa inicial, la cual es de 20 dolares.\n",
    "\n",
    "Analizamos las distribuciones de los datos separandolos por planes Surf y Ultimate en 3 categorías diferentes(Duración de las llamadas, mensajes enviados e internet consumido) para estas tres, el comportamiento de los usuarios Surf en comparación de los usuarios Ultimate es relativamente similar, con pocas diferencias en cuanto a las cifras. Lo importante aqui, es que la brecha de beneficios que existe entre el plan Surf y el plan Ultimate, es enorme, más del doble en todas las categorias, para mi, el hecho de que los usuarios del plan Surf envien, llamen y naveguen en promedio casi lo mismo que los usuarios del plan Ultimate, me varias cosas: uno, los usuarios del plan Ultimate no aprovechan sus beneficios, dos, los usuarios del plan Surf verdaderamente desquitan sus beneficios. Algo que me pareció muy interesante, es el hecho de que más del 30% de los usuarios Surf, excedieron sus beneficios y se vieron obligados a pagar tarifas extra, por minutos, mensajes y megabytes. Demasiados valores atípicos por el lado del plan Surf, unos cuantos por el lado del plan Ultimate. EL número de usuarios del plan surf es mayor que el número de usuarios del plan surf, en la muestra de datos que nos proporcionaron, el número es poco más del doble.\n",
    "\n",
    "Otro punto muy importante, es que el plan surf generó más ingresos que el plan ultimate, poco más de 7,000 dolares más. Al final, realizamos pruebas de hipótesis para obtener evidencia estadística de que las medias de ingresos entre ambos planes eran diferentes, nuestra hipótesis arrojo una gran posibilidad de que eso sea verdad. \n",
    "\n",
    "Por ultimo, respondiendo al objetivo del análisis, el plan Surf generó más ingresos que el plan Ultimate en el año 2018 y segundo, considero que el plan surf es más rentable para la empresa que el plan Ultimate, porque  los usuarios gastaron más usando menos, el número de personas que opta por el plan surf es mayor que el de el plan Ultimate, y es más accesible para el publico en general. Entonces si el departamento comercial quería saber cual de los dos planes genera más ingresos para ajustar el presupuesto de publicidad, esta todo claro.\n",
    "\n",
    "Si tuviera que hacer una sugerencia, basado en el comportamiento de los usuarios del plan surf y del plan ultimate, sería viable crear un plan intermedio, como ya lo mencioné, la brecha entre los beneficios de ambos planes, es enorme, la empresa Megaline, podría crear un plan que estuviera entre esos dos puntos, sería más caro que el plan Surf pero más económico que el plan Ultimate, muchos de los usuarios del plan Surf exceden sus beneficios y terminan pagando de más, creo que muchos de ellos estarían dispuestos a contratar un plan mayor que el Surf pero no tan exagerado(en cuanto a los beneficios) como el plan Ultimate."
   ]
  },
  {
   "cell_type": "code",
   "execution_count": null,
   "metadata": {},
   "outputs": [],
   "source": []
  }
 ],
 "metadata": {
  "ExecuteTimeLog": [
   {
    "duration": 828,
    "start_time": "2021-11-16T09:21:11.304Z"
   },
   {
    "duration": 893,
    "start_time": "2021-11-16T09:21:17.728Z"
   },
   {
    "duration": 1150,
    "start_time": "2021-11-16T09:21:29.568Z"
   },
   {
    "duration": 3,
    "start_time": "2021-11-16T09:24:14.495Z"
   },
   {
    "duration": 120,
    "start_time": "2021-11-16T09:24:46.630Z"
   },
   {
    "duration": 3,
    "start_time": "2021-11-16T09:28:27.882Z"
   },
   {
    "duration": 4,
    "start_time": "2021-11-16T09:29:54.281Z"
   },
   {
    "duration": 3,
    "start_time": "2021-11-16T09:30:45.936Z"
   },
   {
    "duration": 4,
    "start_time": "2021-11-16T09:31:06.300Z"
   },
   {
    "duration": 113,
    "start_time": "2021-11-16T09:31:37.208Z"
   },
   {
    "duration": 143,
    "start_time": "2021-11-16T09:31:48.656Z"
   },
   {
    "duration": 98,
    "start_time": "2021-11-16T09:31:55.678Z"
   },
   {
    "duration": 3,
    "start_time": "2021-11-16T09:32:08.535Z"
   },
   {
    "duration": 111,
    "start_time": "2021-11-16T09:32:10.120Z"
   },
   {
    "duration": 3,
    "start_time": "2021-11-16T09:32:15.732Z"
   },
   {
    "duration": 4,
    "start_time": "2021-11-16T09:32:29.423Z"
   },
   {
    "duration": 3,
    "start_time": "2021-11-16T10:03:03.074Z"
   },
   {
    "duration": 3,
    "start_time": "2021-11-16T10:10:01.288Z"
   },
   {
    "duration": 3,
    "start_time": "2021-11-16T10:10:46.923Z"
   },
   {
    "duration": 121,
    "start_time": "2021-11-16T10:37:46.494Z"
   },
   {
    "duration": 125,
    "start_time": "2021-11-16T10:38:20.632Z"
   },
   {
    "duration": 112,
    "start_time": "2021-11-16T10:46:53.001Z"
   },
   {
    "duration": 110,
    "start_time": "2021-11-16T10:48:25.775Z"
   },
   {
    "duration": 3,
    "start_time": "2021-11-16T10:50:18.720Z"
   },
   {
    "duration": 4,
    "start_time": "2021-11-16T10:50:37.649Z"
   },
   {
    "duration": 2,
    "start_time": "2021-11-16T10:50:51.884Z"
   },
   {
    "duration": 3,
    "start_time": "2021-11-16T10:51:56.237Z"
   },
   {
    "duration": 101,
    "start_time": "2021-11-16T10:53:13.791Z"
   },
   {
    "duration": 3,
    "start_time": "2021-11-16T10:55:59.186Z"
   },
   {
    "duration": 3,
    "start_time": "2021-11-16T10:56:10.751Z"
   },
   {
    "duration": 3,
    "start_time": "2021-11-16T10:56:49.038Z"
   },
   {
    "duration": 3,
    "start_time": "2021-11-16T10:56:49.174Z"
   },
   {
    "duration": 4,
    "start_time": "2021-11-16T10:56:49.414Z"
   },
   {
    "duration": 3,
    "start_time": "2021-11-16T10:56:49.680Z"
   },
   {
    "duration": 3,
    "start_time": "2021-11-16T10:56:50.370Z"
   },
   {
    "duration": 114,
    "start_time": "2021-11-16T10:59:34.518Z"
   },
   {
    "duration": 3,
    "start_time": "2021-11-16T11:01:41.201Z"
   },
   {
    "duration": 116,
    "start_time": "2021-11-16T11:01:48.754Z"
   },
   {
    "duration": 3,
    "start_time": "2021-11-16T11:02:16.685Z"
   },
   {
    "duration": 3,
    "start_time": "2021-11-16T11:02:19.479Z"
   },
   {
    "duration": 3,
    "start_time": "2021-11-16T11:02:47.067Z"
   },
   {
    "duration": 3,
    "start_time": "2021-11-16T11:02:49.353Z"
   },
   {
    "duration": 3,
    "start_time": "2021-11-16T11:03:07.835Z"
   },
   {
    "duration": 3,
    "start_time": "2021-11-16T11:03:07.953Z"
   },
   {
    "duration": 112,
    "start_time": "2021-11-16T11:07:52.072Z"
   },
   {
    "duration": 187,
    "start_time": "2021-11-16T11:09:23.468Z"
   },
   {
    "duration": 4,
    "start_time": "2021-11-16T11:10:01.455Z"
   },
   {
    "duration": 3,
    "start_time": "2021-11-16T11:10:05.069Z"
   },
   {
    "duration": 4,
    "start_time": "2021-11-16T11:10:13.376Z"
   },
   {
    "duration": 3,
    "start_time": "2021-11-16T11:10:14.434Z"
   },
   {
    "duration": 3,
    "start_time": "2021-11-16T11:10:22.853Z"
   },
   {
    "duration": 4,
    "start_time": "2021-11-16T11:27:29.279Z"
   },
   {
    "duration": 4,
    "start_time": "2021-11-16T11:29:08.919Z"
   },
   {
    "duration": 118,
    "start_time": "2021-11-16T11:29:46.703Z"
   },
   {
    "duration": 437,
    "start_time": "2021-11-16T11:36:02.181Z"
   },
   {
    "duration": 157,
    "start_time": "2021-11-16T11:36:14.388Z"
   },
   {
    "duration": 207,
    "start_time": "2021-11-16T11:47:15.898Z"
   },
   {
    "duration": 3,
    "start_time": "2021-11-16T11:53:52.092Z"
   },
   {
    "duration": 3,
    "start_time": "2021-11-16T11:53:52.236Z"
   },
   {
    "duration": 3,
    "start_time": "2021-11-16T11:59:12.005Z"
   },
   {
    "duration": 112,
    "start_time": "2021-11-16T12:00:33.446Z"
   },
   {
    "duration": 3,
    "start_time": "2021-11-16T12:02:14.453Z"
   },
   {
    "duration": 3,
    "start_time": "2021-11-16T12:02:39.512Z"
   },
   {
    "duration": 106,
    "start_time": "2021-11-16T12:03:03.460Z"
   },
   {
    "duration": 3,
    "start_time": "2021-11-17T20:37:21.139Z"
   },
   {
    "duration": 3,
    "start_time": "2021-11-17T20:37:22.229Z"
   },
   {
    "duration": 3,
    "start_time": "2021-11-17T20:38:38.806Z"
   },
   {
    "duration": 3,
    "start_time": "2021-11-17T20:38:41.958Z"
   },
   {
    "duration": 3,
    "start_time": "2021-11-17T20:43:46.551Z"
   },
   {
    "duration": 4,
    "start_time": "2021-11-17T20:58:21.835Z"
   },
   {
    "duration": 3,
    "start_time": "2021-11-17T20:59:21.872Z"
   },
   {
    "duration": 4,
    "start_time": "2021-11-17T20:59:45.352Z"
   },
   {
    "duration": 4,
    "start_time": "2021-11-17T20:59:49.646Z"
   },
   {
    "duration": 159,
    "start_time": "2021-11-17T21:02:26.949Z"
   },
   {
    "duration": 3,
    "start_time": "2021-11-17T21:03:53.461Z"
   },
   {
    "duration": 3,
    "start_time": "2021-11-17T21:03:53.694Z"
   },
   {
    "duration": 3,
    "start_time": "2021-11-17T21:05:28.145Z"
   },
   {
    "duration": 116,
    "start_time": "2021-11-17T21:05:57.787Z"
   },
   {
    "duration": 3,
    "start_time": "2021-11-17T21:06:37.993Z"
   },
   {
    "duration": 3,
    "start_time": "2021-11-17T21:06:38.261Z"
   },
   {
    "duration": 3,
    "start_time": "2021-11-17T21:11:54.358Z"
   },
   {
    "duration": 3,
    "start_time": "2021-11-17T21:12:43.846Z"
   },
   {
    "duration": 4,
    "start_time": "2021-11-17T21:13:08.773Z"
   },
   {
    "duration": 3,
    "start_time": "2021-11-17T21:14:44.441Z"
   },
   {
    "duration": 3,
    "start_time": "2021-11-17T21:15:42.059Z"
   },
   {
    "duration": 4,
    "start_time": "2021-11-17T21:15:51.995Z"
   },
   {
    "duration": 3,
    "start_time": "2021-11-17T21:15:53.923Z"
   },
   {
    "duration": 3,
    "start_time": "2021-11-17T21:15:55.282Z"
   },
   {
    "duration": 3,
    "start_time": "2021-11-17T21:16:28.492Z"
   },
   {
    "duration": 3,
    "start_time": "2021-11-17T21:16:32.603Z"
   },
   {
    "duration": 3,
    "start_time": "2021-11-17T21:17:06.941Z"
   },
   {
    "duration": 98,
    "start_time": "2021-11-17T21:18:05.733Z"
   },
   {
    "duration": 4,
    "start_time": "2021-11-17T21:21:35.255Z"
   },
   {
    "duration": 3,
    "start_time": "2021-11-17T21:21:37.804Z"
   },
   {
    "duration": 4,
    "start_time": "2021-11-17T21:23:06.071Z"
   },
   {
    "duration": 3,
    "start_time": "2021-11-17T21:23:24.799Z"
   },
   {
    "duration": 3,
    "start_time": "2021-11-17T21:23:32.591Z"
   },
   {
    "duration": 98,
    "start_time": "2021-11-17T21:28:31.559Z"
   },
   {
    "duration": 3,
    "start_time": "2021-11-17T21:28:45.448Z"
   },
   {
    "duration": 3,
    "start_time": "2021-11-17T21:29:17.303Z"
   },
   {
    "duration": 3,
    "start_time": "2021-11-17T21:29:29.617Z"
   },
   {
    "duration": 3,
    "start_time": "2021-11-17T21:29:32.681Z"
   },
   {
    "duration": 3,
    "start_time": "2021-11-17T21:36:11.474Z"
   },
   {
    "duration": 3,
    "start_time": "2021-11-17T21:36:14.791Z"
   },
   {
    "duration": 3,
    "start_time": "2021-11-17T21:36:53.943Z"
   },
   {
    "duration": 3,
    "start_time": "2021-11-17T21:36:56.165Z"
   },
   {
    "duration": 4,
    "start_time": "2021-11-17T21:37:16.590Z"
   },
   {
    "duration": 3,
    "start_time": "2021-11-17T21:37:22.702Z"
   },
   {
    "duration": 4,
    "start_time": "2021-11-17T21:38:03.479Z"
   },
   {
    "duration": 3,
    "start_time": "2021-11-17T21:38:08.601Z"
   },
   {
    "duration": 3,
    "start_time": "2021-11-17T21:38:12.928Z"
   },
   {
    "duration": 3,
    "start_time": "2021-11-17T21:38:48.896Z"
   },
   {
    "duration": 2,
    "start_time": "2021-11-17T21:38:49.171Z"
   },
   {
    "duration": 4,
    "start_time": "2021-11-17T21:39:57.889Z"
   },
   {
    "duration": 3,
    "start_time": "2021-11-17T21:39:58.057Z"
   },
   {
    "duration": 3,
    "start_time": "2021-11-17T21:41:20.108Z"
   },
   {
    "duration": 3,
    "start_time": "2021-11-17T21:41:20.629Z"
   },
   {
    "duration": 3,
    "start_time": "2021-11-17T21:42:49.136Z"
   },
   {
    "duration": 3,
    "start_time": "2021-11-17T21:43:15.137Z"
   },
   {
    "duration": 4,
    "start_time": "2021-11-17T21:43:16.766Z"
   },
   {
    "duration": 4,
    "start_time": "2021-11-17T21:43:31.711Z"
   },
   {
    "duration": 3,
    "start_time": "2021-11-17T21:43:36.312Z"
   },
   {
    "duration": 4,
    "start_time": "2021-11-17T21:45:08.825Z"
   },
   {
    "duration": 4,
    "start_time": "2021-11-17T21:45:10.119Z"
   },
   {
    "duration": 4,
    "start_time": "2021-11-17T21:45:13.748Z"
   },
   {
    "duration": 3,
    "start_time": "2021-11-17T21:45:22.219Z"
   },
   {
    "duration": 3,
    "start_time": "2021-11-17T21:45:33.412Z"
   },
   {
    "duration": 2,
    "start_time": "2021-11-17T21:46:01.885Z"
   },
   {
    "duration": 3,
    "start_time": "2021-11-17T21:46:03.628Z"
   },
   {
    "duration": 107,
    "start_time": "2021-11-17T21:47:32.512Z"
   },
   {
    "duration": 103,
    "start_time": "2021-11-17T21:50:36.243Z"
   },
   {
    "duration": 3,
    "start_time": "2021-11-18T06:28:31.440Z"
   },
   {
    "duration": 3,
    "start_time": "2021-11-18T06:29:00.168Z"
   },
   {
    "duration": 3,
    "start_time": "2021-11-18T06:31:27.008Z"
   },
   {
    "duration": 2,
    "start_time": "2021-11-18T06:35:34.288Z"
   },
   {
    "duration": 2,
    "start_time": "2021-11-18T06:38:04.527Z"
   }
  ],
  "colab": {
   "provenance": []
  },
  "kernelspec": {
   "display_name": "Python 3 (ipykernel)",
   "language": "python",
   "name": "python3"
  },
  "language_info": {
   "codemirror_mode": {
    "name": "ipython",
    "version": 3
   },
   "file_extension": ".py",
   "mimetype": "text/x-python",
   "name": "python",
   "nbconvert_exporter": "python",
   "pygments_lexer": "ipython3",
   "version": "3.12.7"
  },
  "toc": {
   "base_numbering": 1,
   "nav_menu": {},
   "number_sections": true,
   "sideBar": true,
   "skip_h1_title": false,
   "title_cell": "Table of Contents",
   "title_sidebar": "Contents",
   "toc_cell": false,
   "toc_position": {},
   "toc_section_display": true,
   "toc_window_display": true
  }
 },
 "nbformat": 4,
 "nbformat_minor": 4
}
